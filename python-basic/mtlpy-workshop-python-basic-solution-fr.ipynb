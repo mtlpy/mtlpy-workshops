{
 "metadata": {
  "name": ""
 },
 "nbformat": 3,
 "nbformat_minor": 0,
 "worksheets": [
  {
   "cells": [
    {
     "cell_type": "markdown",
     "metadata": {},
     "source": [
      "# Atelier Python : introduction de base\n",
      "\n",
      "## SOLUTIONNAIRE"
     ]
    },
    {
     "cell_type": "code",
     "collapsed": false,
     "input": [
      "#! /usr/bin/env python\n",
      "# -*- encoding: utf-8 -*-\n",
      "\n",
      "if __name__ == '__main__':\n",
      "    import feedparser\n",
      "    \n",
      "    # capter le flux RSS\n",
      "    url = \"http://montrealpython.org/fr/feed/\"\n",
      "    flux = feedparser.parse(url)\n",
      "    \n",
      "    # retenir le nombre d'items voulus\n",
      "    #items = flux['items']     # tous\n",
      "    items = flux['items'][0:5]  # 5 derniers items car d\u00e9j\u00e0 tri\u00e9s par .updated\n",
      "    \n",
      "    # traiter les items retenus\n",
      "    reply = u'Les 5 derni\u00e8res modifications du site de Montr\u00e9al-Python :'\n",
      "    for i in items:\n",
      "        # reply = cha\u00eene unicode o\u00f9 placeholders %s substitu\u00e9s par valeurs dans tuple\n",
      "        #reply = reply + u'\\n%s : %s (%s)' % (i['link'], i['title'], i['updated'])\n",
      "        reply = reply + u'\\n%s : %s' % (i['link'], i['title'])\n",
      "    \n",
      "    print reply"
     ],
     "language": "python",
     "metadata": {},
     "outputs": [
      {
       "ename": "ImportError",
       "evalue": "No module named feedparser",
       "output_type": "pyerr",
       "traceback": [
        "\u001b[1;31m---------------------------------------------------------------------------\u001b[0m\n\u001b[1;31mImportError\u001b[0m                               Traceback (most recent call last)",
        "\u001b[1;32m<ipython-input-1-3d8000291677>\u001b[0m in \u001b[0;36m<module>\u001b[1;34m()\u001b[0m\n\u001b[0;32m      3\u001b[0m \u001b[1;33m\u001b[0m\u001b[0m\n\u001b[0;32m      4\u001b[0m \u001b[1;32mif\u001b[0m \u001b[0m__name__\u001b[0m \u001b[1;33m==\u001b[0m \u001b[1;34m'__main__'\u001b[0m\u001b[1;33m:\u001b[0m\u001b[1;33m\u001b[0m\u001b[0m\n\u001b[1;32m----> 5\u001b[1;33m     \u001b[1;32mimport\u001b[0m \u001b[0mfeedparser\u001b[0m\u001b[1;33m\u001b[0m\u001b[0m\n\u001b[0m\u001b[0;32m      6\u001b[0m \u001b[1;33m\u001b[0m\u001b[0m\n\u001b[0;32m      7\u001b[0m     \u001b[1;31m# capter le flux RSS\u001b[0m\u001b[1;33m\u001b[0m\u001b[1;33m\u001b[0m\u001b[0m\n",
        "\u001b[1;31mImportError\u001b[0m: No module named feedparser"
       ]
      }
     ],
     "prompt_number": 1
    },
    {
     "cell_type": "markdown",
     "metadata": {},
     "source": [
      "En plus compact, sans les commentaires :"
     ]
    },
    {
     "cell_type": "code",
     "collapsed": false,
     "input": [
      "#! /usr/bin/env python\n",
      "# -*- encoding: utf-8 -*-\n",
      "\n",
      "if __name__ == '__main__':\n",
      "    import feedparser\n",
      "    \n",
      "    url = \"http://montrealpython.org/fr/feed/\"\n",
      "    flux = feedparser.parse(url)\n",
      "\n",
      "    items = flux['items'][0:5]  # 5 derniers items car d\u00e9j\u00e0 tri\u00e9s par .updated\n",
      "    \n",
      "    reply = u'Les 5 derni\u00e8res modifications du site de Montr\u00e9al-Python :'\n",
      "    for i in items:\n",
      "        #reply = reply + u'\\n%s : %s (%s)' % (i['link'], i['title'], i['updated'])\n",
      "        reply = reply + u'\\n%s : %s' % (i['link'], i['title'])\n",
      "    \n",
      "    print reply"
     ],
     "language": "python",
     "metadata": {},
     "outputs": [
      {
       "ename": "ImportError",
       "evalue": "No module named feedparser",
       "output_type": "pyerr",
       "traceback": [
        "\u001b[1;31m---------------------------------------------------------------------------\u001b[0m\n\u001b[1;31mImportError\u001b[0m                               Traceback (most recent call last)",
        "\u001b[1;32m<ipython-input-2-b0b58cc30a81>\u001b[0m in \u001b[0;36m<module>\u001b[1;34m()\u001b[0m\n\u001b[0;32m      3\u001b[0m \u001b[1;33m\u001b[0m\u001b[0m\n\u001b[0;32m      4\u001b[0m \u001b[1;32mif\u001b[0m \u001b[0m__name__\u001b[0m \u001b[1;33m==\u001b[0m \u001b[1;34m'__main__'\u001b[0m\u001b[1;33m:\u001b[0m\u001b[1;33m\u001b[0m\u001b[0m\n\u001b[1;32m----> 5\u001b[1;33m     \u001b[1;32mimport\u001b[0m \u001b[0mfeedparser\u001b[0m\u001b[1;33m\u001b[0m\u001b[0m\n\u001b[0m\u001b[0;32m      6\u001b[0m \u001b[1;33m\u001b[0m\u001b[0m\n\u001b[0;32m      7\u001b[0m     \u001b[0murl\u001b[0m \u001b[1;33m=\u001b[0m \u001b[1;34m\"http://montrealpython.org/fr/feed/\"\u001b[0m\u001b[1;33m\u001b[0m\u001b[0m\n",
        "\u001b[1;31mImportError\u001b[0m: No module named feedparser"
       ]
      }
     ],
     "prompt_number": 2
    },
    {
     "cell_type": "markdown",
     "metadata": {},
     "source": [
      "En plus pythonesque :"
     ]
    },
    {
     "cell_type": "code",
     "collapsed": false,
     "input": [
      "#! /usr/bin/env python\n",
      "# -*- encoding: utf-8 -*-\n",
      "\n",
      "if __name__ == '__main__':\n",
      "    import feedparser\n",
      "    \n",
      "    url = \"http://montrealpython.org/fr/feed/\"\n",
      "    flux = feedparser.parse(url)\n",
      "    \n",
      "    print = u'Les 5 derni\u00e8res modifications du site de Montr\u00e9al-Python :'\n",
      "    for e in flux.entries[0:5]:\n",
      "        print u'\\n%s : %s' % (e.link, e.title)"
     ],
     "language": "python",
     "metadata": {},
     "outputs": [
      {
       "ename": "SyntaxError",
       "evalue": "invalid syntax (<ipython-input-3-4040c86d2f1c>, line 10)",
       "output_type": "pyerr",
       "traceback": [
        "\u001b[1;36m  File \u001b[1;32m\"<ipython-input-3-4040c86d2f1c>\"\u001b[1;36m, line \u001b[1;32m10\u001b[0m\n\u001b[1;33m    print = u'Les 5 derni\u00e8res modifications du site de Montr\u00e9al-Python :'\u001b[0m\n\u001b[1;37m          ^\u001b[0m\n\u001b[1;31mSyntaxError\u001b[0m\u001b[1;31m:\u001b[0m invalid syntax\n"
       ]
      }
     ],
     "prompt_number": 3
    }
   ],
   "metadata": {}
  }
 ]
}