{
 "metadata": {
  "name": ""
 },
 "nbformat": 3,
 "nbformat_minor": 0,
 "worksheets": [
  {
   "cells": [
    {
     "cell_type": "markdown",
     "metadata": {},
     "source": [
      "# Atelier Python : introduction de base\n",
      "\n",
      "## SOLUTIONNAIRE"
     ]
    },
    {
     "cell_type": "raw",
     "metadata": {},
     "source": [
      "#! /usr/bin/env python\n",
      "# -*- encoding: utf-8 -*-\n",
      "\n",
      "if __name__ == '__main__':\n",
      "    import feedparser\n",
      "    \n",
      "    # capter le flux RSS\n",
      "    url = \"http://montrealpython.org/fr/feed/\"\n",
      "    flux = feedparser.parse(url)\n",
      "    \n",
      "    # retenir le nombre d'items voulus\n",
      "    #items = flux['items']     # tous\n",
      "    items = flux['items'][0:5]  # 5 derniers items car d\u00e9j\u00e0 tri\u00e9s par .updated\n",
      "    \n",
      "    # traiter les items retenus\n",
      "    reply = u'Les 5 derni\u00e8res modifications du site de Montr\u00e9al-Python :'\n",
      "    for i in items:\n",
      "        # reply = cha\u00eene unicode o\u00f9 placeholders %s substitu\u00e9s par valeurs dans tuple\n",
      "        #reply = reply + u'\\n%s : %s (%s)' % (i['link'], i['title'], i['updated'])\n",
      "        reply = reply + u'\\n%s : %s' % (i['link'], i['title'])\n",
      "    \n",
      "    print reply"
     ]
    },
    {
     "cell_type": "markdown",
     "metadata": {},
     "source": [
      "En plus compact, sans les commentaires :"
     ]
    },
    {
     "cell_type": "raw",
     "metadata": {},
     "source": [
      "#! /usr/bin/env python\n",
      "# -*- encoding: utf-8 -*-\n",
      "\n",
      "if __name__ == '__main__':\n",
      "    import feedparser\n",
      "    \n",
      "    url = \"http://montrealpython.org/fr/feed/\"\n",
      "    flux = feedparser.parse(url)\n",
      "\n",
      "    items = flux['items'][0:5]  # 5 derniers items car d\u00e9j\u00e0 tri\u00e9s par .updated\n",
      "    \n",
      "    reply = u'Les 5 derni\u00e8res modifications du site de Montr\u00e9al-Python :'\n",
      "    for i in items:\n",
      "        #reply = reply + u'\\n%s : %s (%s)' % (i['link'], i['title'], i['updated'])\n",
      "        reply = reply + u'\\n%s : %s' % (i['link'], i['title'])\n",
      "    \n",
      "    print reply"
     ]
    },
    {
     "cell_type": "markdown",
     "metadata": {},
     "source": [
      "En plus pythonesque :"
     ]
    },
    {
     "cell_type": "raw",
     "metadata": {},
     "source": [
      "#! /usr/bin/env python\n",
      "# -*- encoding: utf-8 -*-\n",
      "\n",
      "if __name__ == '__main__':\n",
      "    import feedparser\n",
      "    \n",
      "    url = \"http://montrealpython.org/fr/feed/\"\n",
      "    flux = feedparser.parse(url)\n",
      "    \n",
      "    print = u'Les 5 derni\u00e8res modifications du site de Montr\u00e9al-Python :'\n",
      "    for e in flux.entries[0:5]:\n",
      "        print u'\\n%s : %s' % (e.link, e.title)"
     ]
    }
   ],
   "metadata": {}
  }
 ]
}