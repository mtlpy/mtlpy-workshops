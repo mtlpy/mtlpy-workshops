{
 "metadata": {
  "name": "mtlpy-workshop-python-basic"
 },
 "nbformat": 3,
 "nbformat_minor": 0,
 "worksheets": [
  {
   "cells": [
    {
     "cell_type": "markdown",
     "metadata": {},
     "source": [
      "# Python Workshop: Basic Introduction\n",
      "\n",
      "---\n",
      "\n",
      "## INTRODUCTION\n",
      "\n",
      "* Introductions\n",
      "    * Montr\u00e9al-Python\n",
      "        * Speaker\n",
      "        * Events: Monthly meetup (MP), project nights, sprints, workshops, PyCon 2014!\n",
      "        * Workshops\n",
      "        * Sponsors\n",
      "    * And you?\n",
      "        * Students?\n",
      "        * Programmers?\n",
      "        * Professors?\n",
      "* Python\n",
      "    * interpreted\n",
      "    * object oriented\n",
      "    * dynamic\n",
      "    * strongly typed\n",
      "    * ... used (almost) everywhere\n",
      "\n",
      "* Objectives\n",
      "    * to code in the interpreter and explore the basics of the language\n",
      "    * write a script that we will execute in the interpreter\n",
      "\n",
      "* Documentation\n",
      "    * [http://www.python.org/doc/](http://www.python.org/doc/)\n",
      "    * [http://docs.python.org/tutorial/](http://docs.python.org/tutorial/)\n",
      "    * [http://docs.python.org/library/](http://docs.python.org/library/)\n",
      "\n",
      "* Environment\n",
      "    * text editor\n",
      "    * python interpreter: python, ipython\n",
      "\n",
      "----\n",
      "\n",
      "## BASIC NOTIONS\n",
      "\n",
      "### Interpreter\n",
      "\n",
      "* python: vanilla interpreter"
     ]
    },
    {
     "cell_type": "raw",
     "metadata": {},
     "source": [
      "$ python"
     ]
    },
    {
     "cell_type": "markdown",
     "metadata": {},
     "source": [
      "* ipython: interactivity / introspection"
     ]
    },
    {
     "cell_type": "raw",
     "metadata": {},
     "source": [
      "$ ipython"
     ]
    },
    {
     "cell_type": "markdown",
     "metadata": {},
     "source": [
      "### Syntax\n",
      "\n",
      "* comments: #\n",
      "* variables: without $\n",
      "* statements: without ;\n",
      "* blocks: without {}\n",
      "* style: PEP 8\n",
      "[http://www.python.org/dev/peps/pep-0008/](http://www.python.org/dev/peps/pep-0008/\n",
      ")\n",
      "* line continuations: \\\\\n",
      "\n",
      "### Variables\n",
      "\n",
      "* name, value, reference: variable names refers to values\n"
     ]
    },
    {
     "cell_type": "code",
     "collapsed": false,
     "input": [
      "a = 12\n",
      "b = a"
     ],
     "language": "python",
     "metadata": {},
     "outputs": [],
     "prompt_number": 1
    },
    {
     "cell_type": "code",
     "collapsed": false,
     "input": [
      "id(a)"
     ],
     "language": "python",
     "metadata": {},
     "outputs": [
      {
       "metadata": {},
       "output_type": "pyout",
       "prompt_number": 2,
       "text": [
        "142708844"
       ]
      }
     ],
     "prompt_number": 2
    },
    {
     "cell_type": "code",
     "collapsed": false,
     "input": [
      "id(b)"
     ],
     "language": "python",
     "metadata": {},
     "outputs": [
      {
       "metadata": {},
       "output_type": "pyout",
       "prompt_number": 3,
       "text": [
        "142708844"
       ]
      }
     ],
     "prompt_number": 3
    },
    {
     "cell_type": "markdown",
     "metadata": {},
     "source": [
      "### Types\n",
      "\n",
      "* dynamic types (no need to declare)"
     ]
    },
    {
     "cell_type": "code",
     "collapsed": false,
     "input": [
      "n = None        # NoneType: special value meaning... nothing\n",
      "b = True        # bool: boolean... True or False (case sensitive)\n",
      "\n",
      "i = 15          # int: integer\n",
      "f = 15.5        # float: non-integer values\n",
      "\n",
      "s = \"string\"    # str: strings, written with \"\" or ''\n",
      "u = u\"string\"   # unicode: unicode string, writh with u\"\" or u''\n",
      "\n",
      "l = []          # list: list of objects (ordered)\n",
      "t = ()          # tuple: immutable list of objects (can't append to it)\n",
      "d = {}          # dict: dictionary of data (unique, unordered)\n",
      "\n",
      "s = set([])     # set: a collection of objects (unique, unordered)"
     ],
     "language": "python",
     "metadata": {},
     "outputs": [],
     "prompt_number": 4
    },
    {
     "cell_type": "markdown",
     "metadata": {},
     "source": [
      "* unpacking"
     ]
    },
    {
     "cell_type": "code",
     "collapsed": false,
     "input": [
      "coord = (45.30, 73.34)\n",
      "x, y = coord"
     ],
     "language": "python",
     "metadata": {},
     "outputs": [],
     "prompt_number": 5
    },
    {
     "cell_type": "markdown",
     "metadata": {},
     "source": [
      "* strongly typed (no implicit casting)\n",
      "* casting:\n",
      "\n",
      " str(), int(), float(), bool(), list(), tuple(), dict(), set()"
     ]
    },
    {
     "cell_type": "code",
     "collapsed": false,
     "input": [
      "float(a)"
     ],
     "language": "python",
     "metadata": {},
     "outputs": [
      {
       "metadata": {},
       "output_type": "pyout",
       "prompt_number": 6,
       "text": [
        "12.0"
       ]
      }
     ],
     "prompt_number": 6
    },
    {
     "cell_type": "markdown",
     "metadata": {},
     "source": [
      "### Built-in functions : structure of the language\n",
      "\n",
      "* [http://docs.python.org/2/library/functions.html](http://docs.python.org/2/library/functions.html)"
     ]
    },
    {
     "cell_type": "raw",
     "metadata": {},
     "source": [
      "type()                  # returns object's type\n",
      "dir()                   # returns the object's attributes\n",
      "help()                  # gives an object's documentation\n",
      "callable()              # whether an object is function-like...\n",
      "\n",
      "bool(), int(), str()    # initialisation or casting\n",
      "getattr()\n",
      "isinstance(object, Type)# test the class (or type) of an object\n",
      "issubclass()\n",
      "super()\n",
      "len()\n",
      "min()\n",
      "max()\n",
      "open()\n",
      "range()\n",
      "raw_input()\n",
      "\n",
      "print\n",
      "del"
     ]
    },
    {
     "cell_type": "markdown",
     "metadata": {},
     "source": [
      "### Objects and namespaces\n",
      "\n",
      "* object.attribute\n",
      "* object.method()\n",
      "* object.attribute.method()\n",
      "\n",
      "### Introspection\n",
      "\n",
      "* variable. [+ tab]\n",
      "* variable?\n",
      "\n",
      "* type()\n",
      "* dir()\n",
      "* help()\n",
      "\n",
      "* exploring the types\n",
      "\n",
      "* concatenation : s1 + s2\n"
     ]
    },
    {
     "cell_type": "code",
     "collapsed": false,
     "input": [
      "name = u\"Jordi Guti\u00e9rrez Hermoso\"\n",
      "firstname, paternalname, maternalname = name.split()\n",
      "paternalname.upper()\n",
      "paternalname.lower()\n",
      "paternalname.ljust(30)\n",
      "name = [firstname.lower(), paternalname.lower(), maternalname.lower()]\n",
      "username = \".\".join(name)\n",
      "\n",
      "name = u\"Jordi Guti\u00e9rrez Hermoso\"\n",
      "username = \".\".join(name.split()).lower()\n",
      "\n",
      "users = []\n",
      "users.append(username)\n",
      "\n",
      "jordigh = {'firstname':u'Jordi', 'lastname':u'Guti\u00e9rrez Hermoso'}\n",
      "mathieu = {'firstname':u'Mathieu', 'lastname':u'Leduc-Hamel'}\n",
      "jp = {'firstname':u'Jean-Philippe', 'lastname':u'Caissy'}\n",
      "\n",
      "people = []\n",
      "people.append(jordigh)\n",
      "people.append(mathieu)\n",
      "people.append(jp)\n",
      "\n",
      "status = [\n",
      "    (1, u'New'),\n",
      "    (2, u'In progress'),\n",
      "    (3, u'Rejected'),\n",
      "    (4, u'Accepted'),\n",
      "]"
     ],
     "language": "python",
     "metadata": {},
     "outputs": [],
     "prompt_number": 2
    },
    {
     "cell_type": "markdown",
     "metadata": {},
     "source": [
      "### Containers\n",
      "\n",
      "* nesting"
     ]
    },
    {
     "cell_type": "code",
     "collapsed": false,
     "input": [
      "l = [[1,2,3],[4,'ohai',6],[7,8,9]]\n",
      "d = {1611: {'lastname':u'Guti\u00e9rrez Hermoso', 'firstname':u'Jordi'},\n",
      "     123: {'lastname':u'Leduc-Hamel', 'firstname':u'Mathieu'}}"
     ],
     "language": "python",
     "metadata": {},
     "outputs": [],
     "prompt_number": 22
    },
    {
     "cell_type": "markdown",
     "metadata": {},
     "source": [
      "* indexing"
     ]
    },
    {
     "cell_type": "code",
     "collapsed": false,
     "input": [
      "l[2]\n",
      "d[1611]\n",
      "l[1][1]"
     ],
     "language": "python",
     "metadata": {},
     "outputs": [
      {
       "output_type": "pyout",
       "prompt_number": 23,
       "text": [
        "'ohai'"
       ]
      }
     ],
     "prompt_number": 23
    },
    {
     "cell_type": "markdown",
     "metadata": {},
     "source": [
      "* slicing"
     ]
    },
    {
     "cell_type": "code",
     "collapsed": false,
     "input": [
      "l[1:3]"
     ],
     "language": "python",
     "metadata": {},
     "outputs": [
      {
       "output_type": "pyout",
       "prompt_number": 28,
       "text": [
        "[[4, 'ohai', 6], [7, 8, 9]]"
       ]
      }
     ],
     "prompt_number": 28
    },
    {
     "cell_type": "markdown",
     "metadata": {},
     "source": [
      "### Iteration\n",
      "\n",
      "* while"
     ]
    },
    {
     "cell_type": "code",
     "collapsed": false,
     "input": [
      "year = 2012\n",
      "while year <= 2015:\n",
      "    print year\n",
      "    year = year + 1   # year += 1"
     ],
     "language": "python",
     "metadata": {},
     "outputs": [
      {
       "output_type": "stream",
       "stream": "stdout",
       "text": [
        "2012\n",
        "2013\n",
        "2014\n",
        "2015\n"
       ]
      }
     ],
     "prompt_number": 7
    },
    {
     "cell_type": "markdown",
     "metadata": {},
     "source": [
      "* for"
     ]
    },
    {
     "cell_type": "code",
     "collapsed": false,
     "input": [
      "for i in range(2012, 2016):\n",
      "    print i"
     ],
     "language": "python",
     "metadata": {},
     "outputs": [
      {
       "output_type": "stream",
       "stream": "stdout",
       "text": [
        "2012\n",
        "2013\n",
        "2014\n",
        "2015\n"
       ]
      }
     ],
     "prompt_number": 8
    },
    {
     "cell_type": "markdown",
     "metadata": {},
     "source": [
      "### Comparison and logical operators\n",
      "\n",
      "* false = False, 0, \"\", (), [], {}, None\n",
      "* and, or, not\n",
      "* < > <= >= == !=\n",
      "* x < y <= z\n",
      "* is, is not\n",
      "* in, not in\n",
      "\n",
      "### Conditional\n",
      "\n",
      "* if, elif, else"
     ]
    },
    {
     "cell_type": "code",
     "collapsed": false,
     "input": [
      "numlist = range(6)\n",
      "if 5 in numlist:\n",
      "    print 'hooray 5'\n",
      "elif 4 in numlist:\n",
      "    print 'hooray 4'\n",
      "else:\n",
      "    print 'not hooray :-('"
     ],
     "language": "python",
     "metadata": {},
     "outputs": [
      {
       "output_type": "stream",
       "stream": "stdout",
       "text": [
        "hooray 5\n"
       ]
      }
     ],
     "prompt_number": 29
    },
    {
     "cell_type": "markdown",
     "metadata": {},
     "source": [
      "### Files\n",
      "\n",
      "* open, manipulate, close\n",
      "   * sample file : [python.txt](http://bit.ly/16gJUmB)"
     ]
    },
    {
     "cell_type": "code",
     "collapsed": false,
     "input": [
      "f = open('python.txt')\n",
      "for line in f.readlines():\n",
      "    print line,\n",
      "f.close()"
     ],
     "language": "python",
     "metadata": {},
     "outputs": [
      {
       "output_type": "stream",
       "stream": "stdout",
       "text": [
        "Python is a language that I love\n",
        "and, it seems, its name comes from\n",
        "the Monty Python troupe of British comedians\n",
        "and not from the kind of snake called \"python\"\n",
        "\n"
       ]
      }
     ],
     "prompt_number": 15
    },
    {
     "cell_type": "markdown",
     "metadata": {},
     "source": [
      "### String formatting\n",
      "\n",
      "* substitution : %"
     ]
    },
    {
     "cell_type": "code",
     "collapsed": false,
     "input": [
      "for n in range(10):\n",
      "    print \"%d to the 3rd power is: %d\" % (n, n**3)\n",
      "\n",
      "for p in people:\n",
      "    print \"Bonjour/Hello %s %s\" % (p['firstname'], p['lastname'].upper())"
     ],
     "language": "python",
     "metadata": {},
     "outputs": [
      {
       "output_type": "stream",
       "stream": "stdout",
       "text": [
        "0 to the 3rd power is: 0\n",
        "1 to the 3rd power is: 1\n",
        "2 to the 3rd power is: 8\n",
        "3 to the 3rd power is: 27\n",
        "4 to the 3rd power is: 64\n",
        "5 to the 3rd power is: 125\n",
        "6 to the 3rd power is: 216\n",
        "7 to the 3rd power is: 343\n",
        "8 to the 3rd power is: 512\n",
        "9 to the 3rd power is: 729\n",
        "Bonjour/Hello Jordi GUTI\u00c9RREZ HERMOSO\n",
        "Bonjour/Hello Mathieu LEDUC-HAMEL\n",
        "Bonjour/Hello Jean-Philippe CAISSY\n"
       ]
      }
     ],
     "prompt_number": 11
    },
    {
     "cell_type": "markdown",
     "metadata": {},
     "source": [
      "### List comprehension\n",
      "\n",
      "* Create a list from an iterable using a one-liner"
     ]
    },
    {
     "cell_type": "code",
     "collapsed": false,
     "input": [
      "f = open(\"python.txt\")\n",
      "lines = f.readlines()\n",
      "f.close()\n",
      "\n",
      "target = 'python'\n",
      "context = [line for line in lines if target in line]\n",
      "comments = [line for line in lines if line.startswith('#')]"
     ],
     "language": "python",
     "metadata": {},
     "outputs": [],
     "prompt_number": 16
    },
    {
     "cell_type": "markdown",
     "metadata": {},
     "source": [
      "### Functions\n",
      "\n",
      "* naming convention\n",
      "* output : None by default\n",
      "* input : positional or named parameters\n",
      "* \\*args, \\*\\*kwargs\n",
      "* scope of variables"
     ]
    },
    {
     "cell_type": "code",
     "collapsed": false,
     "input": [
      "def age(dob):\n",
      "    return 2013 - dob\n",
      "\n",
      "def my_function(param1, param2, param3=None, param4=0, *args, **kwargs):\n",
      "    \"\"\"This is my function.\"\"\"\n",
      "    output = True\n",
      "    return output"
     ],
     "language": "python",
     "metadata": {},
     "outputs": [],
     "prompt_number": 19
    },
    {
     "cell_type": "markdown",
     "metadata": {},
     "source": [
      "### Scripts\n",
      "\n",
      "* create script.py\n",
      "   * sample file: [sup.py](http://bit.ly/1fDYZXO)"
     ]
    },
    {
     "cell_type": "code",
     "collapsed": false,
     "input": [
      "def sup(name):\n",
      "    return u\"Sup %s!\" % (name)\n",
      "\n",
      "if __name__ == '__main__':\n",
      "    print u\"--------------------------------------------------\"\n",
      "    print u\"START the script\"\n",
      "    print u\"--------------------------------------------------\"\n",
      "    name = raw_input(\"What is your name? \")\n",
      "    print sup(name)\n",
      "    print u\"-----------------------------------------------\"\n",
      "    print u\"END the script\"\n",
      "    print u\"-------------------------------------------------\""
     ],
     "language": "python",
     "metadata": {},
     "outputs": [
      {
       "output_type": "stream",
       "stream": "stdout",
       "text": [
        "--------------------------------------------------\n",
        "START the script\n",
        "--------------------------------------------------\n",
        "-----------------------------------------------\n",
        "END the script\n",
        "-------------------------------------------------\n"
       ]
      }
     ],
     "prompt_number": 18
    },
    {
     "cell_type": "markdown",
     "metadata": {},
     "source": [
      "* shebang: #!/usr/bin/env python\n",
      "* encoding: # -\\*- encoding: utf-8 -\\*-\n",
      "* if \\_\\_name\\_\\_ == '\\_\\_main\\_\\_':\n",
      "* raw_input()\n",
      "\n",
      "* create a repository *project/contacts*\n",
      "* create in this repo a Python script called *form.py* which:\n",
      "    * Asks the user their name, last name, and date of birth\n",
      "    * Greets the user putting their full name in ALLCAPS\n",
      "\n",
      "* Execution in ipython:"
     ]
    },
    {
     "cell_type": "raw",
     "metadata": {},
     "source": [
      "run sup"
     ]
    },
    {
     "cell_type": "markdown",
     "metadata": {},
     "source": [
      "* execution with python: "
     ]
    },
    {
     "cell_type": "raw",
     "metadata": {},
     "source": [
      "$ python script.py"
     ]
    },
    {
     "cell_type": "markdown",
     "metadata": {},
     "source": [
      "### Import\n",
      "\n",
      "* import module\n",
      "* from module import name\n",
      "* from module import name as my_name\n",
      "\n",
      "* built-in: no need to import\n",
      "* standard library (shipped with python): import without installation\n",
      "* pypi : lots of modules to install that are just begging to be imported\n",
      "    * [http://pypi.python.org](http://pypi.python.org)\n",
      "    * _installation of modules covered in the virtualenv workshop_\n"
     ]
    },
    {
     "cell_type": "code",
     "collapsed": false,
     "input": [
      "from datetime import datetime\n",
      "\n",
      "date = datetime.now()\n",
      "print date\n",
      "#year = ??"
     ],
     "language": "python",
     "metadata": {},
     "outputs": [
      {
       "output_type": "stream",
       "stream": "stdout",
       "text": [
        "2013-10-16 20:40:15.997660\n"
       ]
      }
     ],
     "prompt_number": 20
    },
    {
     "cell_type": "markdown",
     "metadata": {},
     "source": [
      "* packages: importable if installed in the path"
     ]
    },
    {
     "cell_type": "code",
     "collapsed": false,
     "input": [
      "import sys\n",
      "sys.path"
     ],
     "language": "python",
     "metadata": {},
     "outputs": [
      {
       "output_type": "pyout",
       "prompt_number": 21,
       "text": [
        "['',\n",
        " '/usr/lib/python2.7',\n",
        " '/usr/lib/python2.7/plat-linux2',\n",
        " '/usr/lib/python2.7/lib-tk',\n",
        " '/usr/lib/python2.7/lib-old',\n",
        " '/usr/lib/python2.7/lib-dynload',\n",
        " '/home/jordi/.local/lib/python2.7/site-packages',\n",
        " '/usr/local/lib/python2.7/dist-packages',\n",
        " '/usr/lib/python2.7/dist-packages',\n",
        " '/usr/lib/python2.7/dist-packages/PIL',\n",
        " '/usr/lib/python2.7/dist-packages/gst-0.10',\n",
        " '/usr/lib/python2.7/dist-packages/gtk-2.0',\n",
        " '/usr/lib/pymodules/python2.7',\n",
        " '/usr/lib/python2.7/dist-packages/IPython/extensions']"
       ]
      }
     ],
     "prompt_number": 21
    },
    {
     "cell_type": "markdown",
     "metadata": {},
     "source": [
      "* in the repo *project/contacts*, create a Python script called *lib.py*\n",
      "* declare the function *age* in this script\n",
      "* in ipython, make sure you're in *projet/contacts*, and then test importing this function"
     ]
    },
    {
     "cell_type": "code",
     "collapsed": false,
     "input": [
      "import lib\n",
      "my_dob = 1975\n",
      "lib.age(my_dob)"
     ],
     "language": "python",
     "metadata": {},
     "outputs": [
      {
       "ename": "ImportError",
       "evalue": "No module named lib",
       "output_type": "pyerr",
       "traceback": [
        "\u001b[1;31m---------------------------------------------------------------------------\u001b[0m\n\u001b[1;31mImportError\u001b[0m                               Traceback (most recent call last)",
        "\u001b[1;32m<ipython-input-22-15d8a38ba137>\u001b[0m in \u001b[0;36m<module>\u001b[1;34m()\u001b[0m\n\u001b[1;32m----> 1\u001b[1;33m \u001b[1;32mimport\u001b[0m \u001b[0mlib\u001b[0m\u001b[1;33m\u001b[0m\u001b[0m\n\u001b[0m\u001b[0;32m      2\u001b[0m \u001b[0mmon_annee_naissance\u001b[0m \u001b[1;33m=\u001b[0m \u001b[1;36m1975\u001b[0m\u001b[1;33m\u001b[0m\u001b[0m\n\u001b[0;32m      3\u001b[0m \u001b[0mlib\u001b[0m\u001b[1;33m.\u001b[0m\u001b[0mage\u001b[0m\u001b[1;33m(\u001b[0m\u001b[0mmon_annee_naissance\u001b[0m\u001b[1;33m)\u001b[0m\u001b[1;33m\u001b[0m\u001b[0m\n",
        "\u001b[1;31mImportError\u001b[0m: No module named lib"
       ]
      }
     ],
     "prompt_number": 22
    },
    {
     "cell_type": "markdown",
     "metadata": {},
     "source": [
      "* improve *form.py* to greet the user who filled in the form and give them their age\n",
      "\n",
      "### Modules\n"
     ]
    },
    {
     "cell_type": "raw",
     "metadata": {},
     "source": [
      "__init__.py"
     ]
    },
    {
     "cell_type": "raw",
     "metadata": {},
     "source": [
      "__name__"
     ]
    },
    {
     "cell_type": "raw",
     "metadata": {},
     "source": [
      "__main__"
     ]
    },
    {
     "cell_type": "markdown",
     "metadata": {},
     "source": [
      "* \\_\\_name\\_\\_ : Module name. It's the file name if imported, but it's \\_\\_main\\_\\_ if executed (useful for tests)\n",
      "* add the file \\_\\_init\\_\\_.py in the repo *project/contacts* to turn it into a module\n",
      "* create a file *tests.py* in the repo root of the *project/* repo (to create a test suite)\n",
      "* import the `age` function in *tests.py* in order to test it\n",
      "\n",
      "### Data permanence\n",
      "\n",
      "* files\n",
      "* serialisation: import pickle"
     ]
    },
    {
     "cell_type": "code",
     "collapsed": false,
     "input": [
      "import pickle\n",
      "\n",
      "f = open('pickles', 'w')\n",
      "pickle.dump(status, f)\n",
      "pickle.dump(people, f)\n",
      "f.close()\n",
      "\n",
      "exit()\n",
      "\n",
      "import pickle\n",
      "\n",
      "f = open('pickles')\n",
      "pickle.load(f)\n",
      "#objects = []\n",
      "#for obj in pickle.load(f):\n",
      "#    objects.append(obj)\n",
      "f.close()"
     ],
     "language": "python",
     "metadata": {},
     "outputs": [],
     "prompt_number": 23
    },
    {
     "cell_type": "markdown",
     "metadata": {},
     "source": [
      "* DB : sqlite3, mysqldb, psycopg2\n",
      "* ORM : sqlalchemy\n",
      "\n",
      "## EXERCISE\n",
      "\n",
      "### Objective\n",
      "\n",
      "Create a script *flux.py* in the repo *project/news* that returns\n",
      "the 5 latest stories posted on the Montreal-Python-site:\n",
      "[http://montrealpython.org/fr/feed/](http://montrealpython.org/fr/feed/)\n",
      "\n",
      "### Approach\n",
      "\n",
      "1. use feedparser\n",
      "    * pip install feedparser\n",
      "1. launch the interpreter and follow the docs:\n",
      "    * ipython\n",
      "    * http://packages.python.org/feedparser/\n",
      "1. introspect as needed (and print a dict to see its keys)\n",
      "1. code the script that will do the desired processing\n",
      "1. launch the script in the interpreter and confirm its proper execution\n",
      "1. serve cold\n",
      "\n",
      "### Algorithm\n",
      "\n",
      "* read the RSS feed from http://montrealpython.org\n",
      "* keep the number of desired items\n",
      "* process the kept items:\n",
      "    * Create a unique string with the data of the last modified items (title, URL... and eventually the date of last modification)\n",
      "\n",
      "### Solution\n",
      "\n",
      "Take the time to code up the solution yourself...\n",
      "... then you can compare with [our solution](http://bit.ly/1bnRClq)\n",
      "\n",
      "As a hint, our solution only has 8 lines of Python.\n",
      "\n",
      "## CONCLUSION\n",
      "\n",
      "* documentation + interactivity + introspection\n",
      "* scripts + modules + import\n",
      "\n",
      "* helpful community\n",
      "* Montr\u00e9al-Python:\n",
      "    * join the community\n",
      "    * upcoming events\n",
      "\n",
      "* enjoy!\n",
      "\n",
      "\n",
      "---"
     ]
    }
   ],
   "metadata": {}
  }
 ]
}
