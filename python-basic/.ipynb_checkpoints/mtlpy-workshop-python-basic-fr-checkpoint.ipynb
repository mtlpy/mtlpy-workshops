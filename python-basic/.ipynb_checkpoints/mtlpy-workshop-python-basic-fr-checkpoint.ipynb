{
 "metadata": {
  "name": ""
 },
 "nbformat": 3,
 "nbformat_minor": 0,
 "worksheets": [
  {
   "cells": [
    {
     "cell_type": "markdown",
     "metadata": {},
     "source": [
      "# Atelier Python : introduction de base\n",
      "\n",
      "---\n",
      "\n",
      "## INTRODUCTION\n",
      "\n",
      "* Pr\u00e9sentations\n",
      "    * Montr\u00e9al-Python\n",
      "        * Pr\u00e9sentateur\n",
      "        * \u00c9v\u00e9nements : conf\u00e9rence mensuelle (MP), soir\u00e9es projets, sprints, ateliers, PyCon\n",
      "        * Ateliers\n",
      "        * Sponsors\n",
      "    * Et vous?\n",
      "        * \u00c9tudiants?\n",
      "        * Programmeurs?\n",
      "        * Professeurs?    \n",
      "* Python\n",
      "    * interpr\u00e9t\u00e9\n",
      "    * orient\u00e9-objet\n",
      "    * dynamique\n",
      "    * fortement typ\u00e9\n",
      "    * ... utilis\u00e9 (presque) partout\n",
      "\n",
      "* Objectifs\n",
      "    * coder dans l'interpr\u00e9teur et explorer les bases du langage\n",
      "    * \u00e9crire un script qu'on fera ex\u00e9cuter par l'interpr\u00e9teur\n",
      "\n",
      "* Documentation\n",
      "    * [http://www.python.org/doc/](http://www.python.org/doc/)\n",
      "    * [http://docs.python.org/tutorial/](http://docs.python.org/tutorial/)\n",
      "    * [http://docs.python.org/library/](http://docs.python.org/library/)\n",
      "\n",
      "* Environnement\n",
      "    * \u00e9diteur texte\n",
      "    * interpr\u00e9teur python : python, ipython\n",
      "\n",
      "----\n",
      "\n",
      "## NOTIONS DE BASE\n",
      "\n",
      "### Interpr\u00e9teur\n",
      "\n",
      "* python : interpr\u00e9teur de base"
     ]
    },
    {
     "cell_type": "raw",
     "metadata": {},
     "source": [
      "$ python"
     ]
    },
    {
     "cell_type": "markdown",
     "metadata": {},
     "source": [
      "* ipython : interactivit\u00e9 / introspection"
     ]
    },
    {
     "cell_type": "raw",
     "metadata": {},
     "source": [
      "$ ipython"
     ]
    },
    {
     "cell_type": "markdown",
     "metadata": {},
     "source": [
      "### Syntaxe\n",
      "\n",
      "* commentaire : #\n",
      "* variables : sans $\n",
      "* instructions : sans ;\n",
      "* blocs : sans {}\n",
      "* style : PEP 8\n",
      "[http://www.python.org/dev/peps/pep-0008/](http://www.python.org/dev/peps/pep-0008/\n",
      ")\n",
      "* bris de ligne : <pre>\\</pre>\n",
      "\n",
      "### Variables\n",
      "\n",
      "* nom, valeur, r\u00e9f\u00e9rence : les noms de variables r\u00e9f\u00e9rencent des valeurs"
     ]
    },
    {
     "cell_type": "code",
     "collapsed": false,
     "input": [
      "a = 12\n",
      "b = a"
     ],
     "language": "python",
     "metadata": {},
     "outputs": [],
     "prompt_number": "*"
    },
    {
     "cell_type": "code",
     "collapsed": false,
     "input": [
      "id(a)"
     ],
     "language": "python",
     "metadata": {},
     "outputs": [],
     "prompt_number": "*"
    },
    {
     "cell_type": "code",
     "collapsed": false,
     "input": [
      "id(b)"
     ],
     "language": "python",
     "metadata": {},
     "outputs": [],
     "prompt_number": "*"
    },
    {
     "cell_type": "markdown",
     "metadata": {},
     "source": [
      "### Types\n",
      "\n",
      "* typage dynamique (pas besoin d\u00e9clarer)"
     ]
    },
    {
     "cell_type": "code",
     "collapsed": false,
     "input": [
      "n = None        # NoneType : type sp\u00e9cial voulant dire... rien\n",
      "b = True        # bool : bool\u00e9en... True ou False n'oubliez pas les majuscules\n",
      "\n",
      "i = 15          # int : entier\n",
      "f = 15.5        # float : d\u00e9cimal\n",
      "\n",
      "s = \"chaine\"    # str : chaine de caract\u00e8re, instanci\u00e9 avec \"\" ou ''\n",
      "u = u\"cha\u00eene\"   # unicode : cha\u00eene de caract\u00e8re unicode, instanci\u00e9 avec u\"\" ou u''\n",
      "\n",
      "l = []          # list : liste d'objets (ordonn\u00e9)\n",
      "t = ()          # tuple : liste immuable d'objets\n",
      "d = {}          # dict : dictionnaire de donn\u00e9es (unique, non-ordonn\u00e9)\n",
      "\n",
      "ens = set([])   # set : ensemble (unique, non-ordonn\u00e9)"
     ],
     "language": "python",
     "metadata": {},
     "outputs": [],
     "prompt_number": "*"
    },
    {
     "cell_type": "markdown",
     "metadata": {},
     "source": [
      "* unpacking"
     ]
    },
    {
     "cell_type": "code",
     "collapsed": false,
     "input": [
      "coord = (45.30, 73.34)\n",
      "x, y = coord"
     ],
     "language": "python",
     "metadata": {},
     "outputs": [],
     "prompt_number": "*"
    },
    {
     "cell_type": "markdown",
     "metadata": {},
     "source": [
      "* fortement typ\u00e9 (pas de transtypage implicite)\n",
      "* transtypage\n",
      " str(), int(), float(), bool(), list(), tuple(), dict(), set()"
     ]
    },
    {
     "cell_type": "code",
     "collapsed": false,
     "input": [
      "float(a)"
     ],
     "language": "python",
     "metadata": {},
     "outputs": [],
     "prompt_number": "*"
    },
    {
     "cell_type": "markdown",
     "metadata": {},
     "source": [
      "### Built-in : fonctions built-in et structure du langage\n",
      "\n",
      "* [http://docs.python.org/library/fonctions.html](http://docs.python.org/library/fonctions.html)\n",
      "\n",
      "type()                  # retourne le type de l'objet<br />\n",
      "dir()                   # retourne les noms derri\u00e8re l'objet<br />\n",
      "help()                  # retourne l'aide<br />\n",
      "callable()              # dit si un objet est appelable, ex\u00e9cutable...<br />\n",
      "<br />\n",
      "bool(), int(), str()... # initialisation ou transtypage<br />\n",
      "getattr()<br />\n",
      "isinstance(objet, Type) # teste le classe (ou type) d'un objet<br />\n",
      "issubclass()<br />\n",
      "super()<br />\n",
      "len()<br />\n",
      "min()<br />\n",
      "max()<br />\n",
      "open()<br />\n",
      "range()<br />\n",
      "raw_input()<br />\n",
      "<br />\n",
      "print<br />\n",
      "del<br />"
     ]
    },
    {
     "cell_type": "markdown",
     "metadata": {},
     "source": [
      "### Objets et namespaces\n",
      "\n",
      "* objet.attribut\n",
      "* objet.methode()\n",
      "* objet.attribut.methode()\n",
      "\n",
      "### Introspection\n",
      "\n",
      "* variable. [+ tab]\n",
      "* variable?\n",
      "\n",
      "* type()\n",
      "* dir()\n",
      "* help()\n",
      "\n",
      "* exploration des types\n",
      "\n",
      "* concat\u00e9nation : s1 + s2"
     ]
    },
    {
     "cell_type": "code",
     "collapsed": false,
     "input": [
      "nom = \"Davin Baragiotta\"\n",
      "prenom, nom = nom.split()\n",
      "nom.upper()\n",
      "nom.lower()\n",
      "nom.ljust(30)\n",
      "nom = [prenom.lower(), nom.lower()]\n",
      "username = \".\".join(nom)\n",
      "\n",
      "nom = \"Davin Baragiotta\"\n",
      "username = \".\".join(nom.split()).lower()\n",
      "\n",
      "users = []\n",
      "users.append(username)\n",
      "\n",
      "davin = {'prenom':'Davin', 'nom':'Baragiotta'}\n",
      "mathieu = {'prenom':'Mathieu', 'nom':'Leduc-Hamel'}\n",
      "jp = {'prenom':'Jean-Philippe', 'nom':'Caissy'}\n",
      "\n",
      "personnes = []\n",
      "personnes.append(davin)\n",
      "personnes.append(mathieu)\n",
      "personnes.append(jp)\n",
      "\n",
      "statuts = [\n",
      "    (1, u'Nouveau'),\n",
      "    (2, u'En cours'),\n",
      "    (3, u'Rejet\u00e9'),\n",
      "    (4, u'Retenu'),\n",
      "]"
     ],
     "language": "python",
     "metadata": {},
     "outputs": [],
     "prompt_number": "*"
    },
    {
     "cell_type": "markdown",
     "metadata": {},
     "source": [
      "### Conteneurs\n",
      "\n",
      "* imbrication"
     ]
    },
    {
     "cell_type": "code",
     "collapsed": false,
     "input": [
      "l = [[1,2,3],[4,'salut',6],[7,8,9]]\n",
      "d = {1611: {'nom':'Baragiotta', 'prenom':'Davin'}, 123: {'nom':'Leduc-Hamel', 'prenom':'Mathieu'}}"
     ],
     "language": "python",
     "metadata": {},
     "outputs": [],
     "prompt_number": "*"
    },
    {
     "cell_type": "markdown",
     "metadata": {},
     "source": [
      "* index"
     ]
    },
    {
     "cell_type": "code",
     "collapsed": false,
     "input": [
      "l[2]\n",
      "d[1611]\n",
      "l[1][1]"
     ],
     "language": "python",
     "metadata": {},
     "outputs": [],
     "prompt_number": "*"
    },
    {
     "cell_type": "markdown",
     "metadata": {},
     "source": [
      "* slicing"
     ]
    },
    {
     "cell_type": "code",
     "collapsed": false,
     "input": [
      "l[1:2]"
     ],
     "language": "python",
     "metadata": {},
     "outputs": [],
     "prompt_number": "*"
    },
    {
     "cell_type": "markdown",
     "metadata": {},
     "source": [
      "### It\u00e9ration\n",
      "\n",
      "* while"
     ]
    },
    {
     "cell_type": "code",
     "collapsed": false,
     "input": [
      "annee = 2012\n",
      "while annee <= 2015:\n",
      "    print annee\n",
      "    annee = annee + 1   # annee += 1"
     ],
     "language": "python",
     "metadata": {},
     "outputs": [],
     "prompt_number": "*"
    },
    {
     "cell_type": "markdown",
     "metadata": {},
     "source": [
      "* for"
     ]
    },
    {
     "cell_type": "code",
     "collapsed": false,
     "input": [
      "for i in range(2012, 2016):\n",
      "    print i"
     ],
     "language": "python",
     "metadata": {},
     "outputs": [],
     "prompt_number": "*"
    },
    {
     "cell_type": "markdown",
     "metadata": {},
     "source": [
      "### Comparaisons et op\u00e9rateurs logiques\n",
      "\n",
      "* faux = False, 0, \"\", (), [], {}, None\n",
      "* and, or, not\n",
      "* < > <= >= == !=\n",
      "* x < y <= z\n",
      "* is, is not\n",
      "* in, not in\n",
      "\n",
      "### Conditionnel\n",
      "\n",
      "* if, elif, else"
     ]
    },
    {
     "cell_type": "code",
     "collapsed": false,
     "input": [
      "liste = range(6)\n",
      "if 5 in liste:\n",
      "    print 'hourra 5'\n",
      "elif 4 in liste:\n",
      "    print 'hourra 4'\n",
      "else:\n",
      "    print 'pas hourra'"
     ],
     "language": "python",
     "metadata": {},
     "outputs": [],
     "prompt_number": "*"
    },
    {
     "cell_type": "markdown",
     "metadata": {},
     "source": [
      "### Fichiers\n",
      "\n",
      "* ouvrir, manipuler, fermer\n",
      "    * exemple de fichier : [texte.txt](http://bit.ly/1btMYSW)"
     ]
    },
    {
     "cell_type": "code",
     "collapsed": false,
     "input": [
      "f = open('texte.txt')\n",
      "for line in f.readlines():\n",
      "    print line,\n",
      "f.close()"
     ],
     "language": "python",
     "metadata": {},
     "outputs": [],
     "prompt_number": "*"
    },
    {
     "cell_type": "markdown",
     "metadata": {},
     "source": [
      "### Formattage de cha\u00eenes de caract\u00e8res\n",
      "\n",
      "* substitution : %"
     ]
    },
    {
     "cell_type": "code",
     "collapsed": false,
     "input": [
      "for n in range(10):\n",
      "    print \"La puissance 2 de %d est : %d\" % (n, n**2)\n",
      "\n",
      "for p in personnes:\n",
      "    print \"Bonjour %s %s\" % (p['prenom'], p['nom'].upper())"
     ],
     "language": "python",
     "metadata": {},
     "outputs": [],
     "prompt_number": "*"
    },
    {
     "cell_type": "markdown",
     "metadata": {},
     "source": [
      "### Compr\u00e9hension de liste\n",
      "\n",
      "* cr\u00e9er une liste \u00e0 partir d'un it\u00e9rable avec un \"one-liner\""
     ]
    },
    {
     "cell_type": "code",
     "collapsed": false,
     "input": [
      "cible = 'python'\n",
      "contexte = [ligne for ligne in f.readlines() if cible in ligne]\n",
      "commentaires = [ligne for ligne in f.readlines() if ligne.startswith('#')]"
     ],
     "language": "python",
     "metadata": {},
     "outputs": [],
     "prompt_number": "*"
    },
    {
     "cell_type": "markdown",
     "metadata": {},
     "source": [
      "### Scripts\n",
      "\n",
      "* cr\u00e9er script.py\n",
      "   * exemple de fichier : [script.py](http://bit.ly/16iNg7h)"
     ]
    },
    {
     "cell_type": "code",
     "collapsed": false,
     "input": [
      "#! /usr/bin/env python\n",
      "# -*- encoding: utf-8 -*-\n",
      "\n",
      "def coucou(nom):\n",
      "    return u\"Coucou %s!\" % (nom,)\n",
      "        \n",
      "if __name__ == '__main__':\n",
      "    print u\"--------------------------------------------------\"\n",
      "    print u\"D\u00c9BUT du script\"\n",
      "    print u\"--------------------------------------------------\"\n",
      "    nom = raw_input(\"Quel est votre nom? \")\n",
      "    print coucou(nom)\n",
      "    print u\"-----------------------------------------------\"\n",
      "    print u\"FIN du script\"\n",
      "    print u\"-------------------------------------------------\""
     ],
     "language": "python",
     "metadata": {},
     "outputs": [],
     "prompt_number": "*"
    },
    {
     "cell_type": "markdown",
     "metadata": {},
     "source": [
      "* shebang : #! /usr/bin/env python\n",
      "* encoding : # -*- encoding: utf-8 -*-\n",
      "* <pre>if __name__ == '__main__':</pre>\n",
      "* raw_input()\n",
      "\n",
      "* cr\u00e9er un r\u00e9pertoire *projet/contacts*\n",
      "* cr\u00e9er dans ce r\u00e9pertoire un script Python nomm\u00e9 *form.py* qui :\n",
      "    * demande \u00e0 l'utilisateur son nom, pr\u00e9nom et ann\u00e9e de naissance\n",
      "    * salue l'utilisateur en affichant son pr\u00e9nom et son nom en majuscule\n",
      "\n",
      "* ex\u00e9cution ipython : "
     ]
    },
    {
     "cell_type": "code",
     "collapsed": false,
     "input": [
      "run script"
     ],
     "language": "python",
     "metadata": {},
     "outputs": [],
     "prompt_number": "*"
    },
    {
     "cell_type": "markdown",
     "metadata": {},
     "source": [
      "* ex\u00e9cution python : "
     ]
    },
    {
     "cell_type": "raw",
     "metadata": {},
     "source": [
      "$ python script.py"
     ]
    },
    {
     "cell_type": "markdown",
     "metadata": {},
     "source": [
      "### Fonctions\n",
      "\n",
      "* convention de nommage\n",
      "* output : None par d\u00e9faut\n",
      "* input : param\u00e8tres positionnels ou nomm\u00e9s"
     ]
    },
    {
     "cell_type": "raw",
     "metadata": {},
     "source": [
      "*args, **kwargs"
     ]
    },
    {
     "cell_type": "markdown",
     "metadata": {},
     "source": [
      "* port\u00e9e des variables"
     ]
    },
    {
     "cell_type": "code",
     "collapsed": false,
     "input": [
      "def age(annee_naissance):\n",
      "    return 2012 - annee_naissance\n",
      "\n",
      "def ma_fonction(param1, param2, param3=None, param4=0, *args, **kwargs):\n",
      "    \"\"\"Ceci est ma fonction.\"\"\"\n",
      "    output = True\n",
      "    return output"
     ],
     "language": "python",
     "metadata": {},
     "outputs": [],
     "prompt_number": "*"
    },
    {
     "cell_type": "markdown",
     "metadata": {},
     "source": [
      "### Import\n",
      "\n",
      "* import module\n",
      "* from module import nom\n",
      "* from module import nom as mon_nom\n",
      "\n",
      "* built-in : pas besoin d'import\n",
      "* standard library (shipped with) : import sans install\n",
      "* pypi : plein de modules \u00e0 installer qui n'attendent qu'\u00e0 \u00eatre import\u00e9s\n",
      "    * [http://pypi.python.org](http://pypi.python.org)\n",
      "    * _installation de modules couvert dans l'atelier virtualenv_"
     ]
    },
    {
     "cell_type": "code",
     "collapsed": false,
     "input": [
      "from datetime import datetime\n",
      "\n",
      "date = datetime.now()\n",
      "print date\n",
      "#annee = ??"
     ],
     "language": "python",
     "metadata": {},
     "outputs": [],
     "prompt_number": "*"
    },
    {
     "cell_type": "markdown",
     "metadata": {},
     "source": [
      "* packages : importable si install\u00e9 dans le path"
     ]
    },
    {
     "cell_type": "code",
     "collapsed": false,
     "input": [
      "import sys\n",
      "sys.path"
     ],
     "language": "python",
     "metadata": {},
     "outputs": [],
     "prompt_number": "*"
    },
    {
     "cell_type": "markdown",
     "metadata": {},
     "source": [
      "* dans le r\u00e9pertoire *projet/contacts*, cr\u00e9er un script Python nomm\u00e9 *lib.py*\n",
      "* d\u00e9clarer la fonction *age* dans ce script\n",
      "* dans ipython, s'assurer d'\u00eatre dans *projet/contacts* puis tester l'import de la fonction"
     ]
    },
    {
     "cell_type": "code",
     "collapsed": false,
     "input": [
      "import lib\n",
      "mon_annee_naissance = 1975\n",
      "lib.age(mon_annee_naissance)"
     ],
     "language": "python",
     "metadata": {},
     "outputs": [],
     "prompt_number": "*"
    },
    {
     "cell_type": "markdown",
     "metadata": {},
     "source": [
      "* am\u00e9liorer *form.py* en saluant le user qui a rempli le form et en lui donnant son \u00e2ge\n",
      "\n",
      "### Modules"
     ]
    },
    {
     "cell_type": "raw",
     "metadata": {},
     "source": [
      "__init__.py"
     ]
    },
    {
     "cell_type": "raw",
     "metadata": {},
     "source": [
      "__name__"
     ]
    },
    {
     "cell_type": "raw",
     "metadata": {},
     "source": [
      "__main__"
     ]
    },
    {
     "cell_type": "markdown",
     "metadata": {},
     "source": [
      "* **name** : nom du module, c'est le nom de fichier si import\u00e9, affect\u00e9 aussi \u00e0 **main** si ex\u00e9cut\u00e9 (utile pour tests)\n",
      "* ajouter un fichier **init** dans le r\u00e9pertoire *projet/contacts* pour le convertir en module\n",
      "* cr\u00e9er un fichier *tests.py* \u00e0 la racine du r\u00e9pertoire *projet/* (pour cr\u00e9er une suite de tests)\n",
      "* importer la fonction `age` dans *tests.py* pour la tester\n",
      "\n",
      "### Permanence de l'information\n",
      "\n",
      "* fichiers\n",
      "* s\u00e9rialisation : import pickle"
     ]
    },
    {
     "cell_type": "code",
     "collapsed": false,
     "input": [
      "import pickle\n",
      "\n",
      "f = open('pickles', 'w')\n",
      "pickle.dump(statuts, f)\n",
      "pickle.dump(personnes, f)\n",
      "f.close()\n",
      "\n",
      "exit()\n",
      "\n",
      "import pickle\n",
      "\n",
      "f = open('pickles')\n",
      "pickle.load(f)\n",
      "#objets = []\n",
      "#for obj in pickle.load(f):\n",
      "#    objets.append(obj)\n",
      "f.close()"
     ],
     "language": "python",
     "metadata": {},
     "outputs": [],
     "prompt_number": "*"
    },
    {
     "cell_type": "markdown",
     "metadata": {},
     "source": [
      "* DB : sqlite3, mysqldb, psycopg2\n",
      "* ORM : sqlalchemy\n",
      "\n",
      "## EXERCICE\n",
      "\n",
      "### Objectif\n",
      "\n",
      "Cr\u00e9er un script *flux.py* dans le r\u00e9pertoire *projet/actualites* qui retournera les\n",
      "5 derni\u00e8res actualit\u00e9s affich\u00e9es sur le site de Montr\u00e9al-Python :\n",
      "[http://montrealpython.org/fr/feed/](http://montrealpython.org/fr/feed/)\n",
      "\n",
      "### Approche\n",
      "\n",
      "1. utiliser feedparser\n",
      "    * pip install feedparser\n",
      "1. lancer interpr\u00e9teur et suivre exemple de la doc :\n",
      "    * ipython\n",
      "    * http://packages.python.org/feedparser/\n",
      "1. introspecter (et imprimer dictionnaire pour voir ses cl\u00e9s) au besoin\n",
      "1. coder le script qui fera le traitement voulu\n",
      "1. lancer le script dans l'interpr\u00e9teur pour confirmer son ex\u00e9cution correcte\n",
      "1. servir froid\n",
      "\n",
      "### Algorithme\n",
      "\n",
      "* capter le flux RSS de http://montrealpython.org\n",
      "* retenir le nombre d'items voulus\n",
      "* traiter les items retenus :\n",
      "    * cr\u00e9er une cha\u00eene de caract\u00e8res unique : avec les infos des derniers items modifi\u00e9s (titre, URL... et \u00e9ventuellement la date de derni\u00e8re modification)\n",
      "\n",
      "### Solution\n",
      "\n",
      "Prenez le temps de coder vous-m\u00eame une solution...\n",
      "... ensuite vous pouvez comparer avec : le [solutionnaire](http://bit.ly/1bnRClq)\n",
      "\n",
      "Pour info, la solution ne fait que 8 lignes Python.\n",
      "\n",
      "## CONCLUSION\n",
      "\n",
      "* documentation + interactivit\u00e9 + introspection\n",
      "* scripts + modules + import\n",
      "\n",
      "* communaut\u00e9 pour aider\n",
      "* Montr\u00e9al-Python : \n",
      "    * entrer dans la communaut\u00e9\n",
      "    * \u00e9v\u00e9nements \u00e0 venir\n",
      "\n",
      "* enjoy!\n",
      "\n",
      "## SONDAGE\n",
      "\n",
      "On veut devenir meilleurs, votre opinion nous int\u00e9resse!\n",
      "Merci de prendre 5 minutes de votre temps pour nous fournir votre retour d'exp\u00e9rience.\n",
      "\n",
      "* [http://fr.surveymonkey.com/9V9DD5R](http://fr.surveymonkey.com/9V9DD5R)\n",
      "\n",
      "---"
     ]
    }
   ],
   "metadata": {}
  }
 ]
}