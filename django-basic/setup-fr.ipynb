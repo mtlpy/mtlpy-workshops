{
 "metadata": {
  "name": ""
 },
 "nbformat": 3,
 "nbformat_minor": 0,
 "worksheets": [
  {
   "cells": [
    {
     "cell_type": "markdown",
     "metadata": {},
     "source": [
      "# Django : introduction de base\n",
      "\n",
      "## Environnement technique\n",
      "\n",
      "### Machine virtuelle Ubuntu\n",
      "\n",
      "* installer une machine virtuelle Ubuntu sur votre ordinateur : [instructions](http://bit.ly/1697xMF)\n",
      "* lancer la machine virtuelle Ubuntu de Montr\u00e9al-Python\n",
      "    * lancer VirtualBox\n",
      "    * double-cliquer sur la machine \"Montreal-Python\"\n",
      "    \n",
      "### R\u00e9pertoire local du projet\n",
      "    \n",
      "* cr\u00e9er un r\u00e9pertoire pour l'atelier\n",
      "    * ouvrir votre Dossier personnel (ic\u00f4ne de dossier dans le menu de gauche)\n",
      "    * cr\u00e9er un r\u00e9pertoire nomm\u00e9 \"ateliers\" si il n'existe pas (bouton de droite de souris + cr\u00e9er un nouveau dossier)\n",
      "    * ouvrir le r\u00e9pertoire \"ateliers\" et y cr\u00e9er un sous-r\u00e9pertoire nomm\u00e9 \"django\"\n",
      "* ouvrir un terminal (ic\u00f4ne noire dans le menu de gauche)"
     ]
    },
    {
     "cell_type": "raw",
     "metadata": {},
     "source": [
      "montreal-python@mp-virtualbox:~$"
     ]
    },
    {
     "cell_type": "markdown",
     "metadata": {},
     "source": [
      "* se d\u00e9placer dans le r\u00e9pertoire de l'atelier\n",
      "    * cd = \"change directory\""
     ]
    },
    {
     "cell_type": "raw",
     "metadata": {},
     "source": [
      "montreal-python@mp-virtualbox:~$ cd ateliers/django"
     ]
    },
    {
     "cell_type": "markdown",
     "metadata": {},
     "source": [
      "### Environnement virtuel Python\n",
      "\n",
      "* cr\u00e9er un environnement virtuel Python pour l'atelier (nomm\u00e9 \"venv\", par exemple)\n",
      "    * on cr\u00e9e des environnements virtuels Python gr\u00e2ce \u00e0 virtualenv\n",
      "    * virtualenv est pr\u00e9-install\u00e9 dans la machine virtuelle Ubuntu de Montr\u00e9al-Python"
     ]
    },
    {
     "cell_type": "raw",
     "metadata": {},
     "source": [
      "montreal-python@mp-virtualbox:~/ateliers/django$ virtualenv --system-site-packages venv"
     ]
    },
    {
     "cell_type": "markdown",
     "metadata": {},
     "source": [
      "* activer l'environnement virtuel Python cr\u00e9\u00e9"
     ]
    },
    {
     "cell_type": "raw",
     "metadata": {},
     "source": [
      "montreal-python@mp-virtualbox:~/ateliers/django$ source venv/bin/activate"
     ]
    },
    {
     "cell_type": "markdown",
     "metadata": {},
     "source": [
      "* remarquer que l'environnement virtuel est activ\u00e9 : il y a (venv) qui s'est mis devant le prompt du terminal apr\u00e8s activation\n",
      "\n",
      "### Installation des d\u00e9pendances\n",
      "\n",
      "* installer les d\u00e9pendances pour l'atelier Django\n",
      "* installer Django 1.5.4\n",
      "    * download 8 Mo et installe Django dans votre environnement virtuel Python \"venv\""
     ]
    },
    {
     "cell_type": "raw",
     "metadata": {},
     "source": [
      "(venv)montreal-python@mp-virtualbox:~/ateliers/django$ pip install Django==1.5.4"
     ]
    },
    {
     "cell_type": "markdown",
     "metadata": {},
     "source": [
      "* installer South 0.8.2\n",
      "    * download 95 ko et installe South dans votre environnement virtuel Python \"venv\""
     ]
    },
    {
     "cell_type": "raw",
     "metadata": {},
     "source": [
      "(venv)montreal-python@mp-virtualbox:~/ateliers/django$ pip install South==0.8.2"
     ]
    },
    {
     "cell_type": "markdown",
     "metadata": {},
     "source": [
      "* c'est tout, vous avez l'environnement technique pour l'atelier\n",
      "\n",
      "### V\u00e9rification\n",
      "\n",
      "* v\u00e9rifier que les d\u00e9pendances peuvent bien \u00eatre import\u00e9es\n",
      "* lancer un interpr\u00e9teur python ou ipython"
     ]
    },
    {
     "cell_type": "raw",
     "metadata": {},
     "source": [
      "(venv)montreal-python@mp-virtualbox:~/ateliers/django$ ipython"
     ]
    },
    {
     "cell_type": "markdown",
     "metadata": {},
     "source": [
      "* v\u00e9rifier la version de Django"
     ]
    },
    {
     "cell_type": "code",
     "collapsed": false,
     "input": [
      "import django"
     ],
     "language": "python",
     "metadata": {},
     "outputs": []
    },
    {
     "cell_type": "code",
     "collapsed": false,
     "input": [
      "django.get_version()"
     ],
     "language": "python",
     "metadata": {},
     "outputs": []
    },
    {
     "cell_type": "markdown",
     "metadata": {},
     "source": [
      "* v\u00e9rifier la version de South"
     ]
    },
    {
     "cell_type": "code",
     "collapsed": false,
     "input": [
      "import south"
     ],
     "language": "python",
     "metadata": {},
     "outputs": []
    },
    {
     "cell_type": "code",
     "collapsed": false,
     "input": [
      "south.__version__"
     ],
     "language": "python",
     "metadata": {},
     "outputs": []
    },
    {
     "cell_type": "markdown",
     "metadata": {},
     "source": [
      "### Fermer l'espace de travail\n",
      "\n",
      "Vous pouvez maintenant tout fermer votre espace de travail, on relancera le tout au d\u00e9but de l'atelier.\n",
      "\n",
      "* fermer ipython"
     ]
    },
    {
     "cell_type": "code",
     "collapsed": false,
     "input": [
      "exit()"
     ],
     "language": "python",
     "metadata": {},
     "outputs": []
    },
    {
     "cell_type": "markdown",
     "metadata": {},
     "source": [
      "* d\u00e9sactiver l'environnement virtuel Python \"venv "
     ]
    },
    {
     "cell_type": "raw",
     "metadata": {},
     "source": [
      "(venv)montreal-python@mp-virtualbox:~/ateliers/django$ deactivate"
     ]
    },
    {
     "cell_type": "markdown",
     "metadata": {},
     "source": [
      "* fermer le terminal (clic sur le X en haut de fen\u00eatre)\n",
      "* fermer navigateur de fichiers (clic sur le X en haut de fen\u00eatre)\n",
      "* fermer la machine virtuelle Ubuntu\n",
      "    * dans l'\u00e9cran o\u00f9 vous avez lanc\u00e9 la machine virtuelle, clic-droit + fermer + \u00e9teindre (tout confirmer, on ne perdra pas de donn\u00e9es)"
     ]
    }
   ],
   "metadata": {}
  }
 ]
}