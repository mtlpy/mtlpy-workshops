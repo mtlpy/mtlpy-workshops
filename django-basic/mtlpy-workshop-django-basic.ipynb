{
 "metadata": {
  "name": "mtlpy-workshop-django-basic"
 },
 "nbformat": 3,
 "nbformat_minor": 0,
 "worksheets": [
  {
   "cells": [
    {
     "cell_type": "markdown",
     "metadata": {},
     "source": [
      "# Django Workshop : Basic Introduction\n",
      "\n",
      "---\n",
      "\n",
      "## INTRODUCTION\n",
      "\n",
      "* Presentations\n",
      "    * Montr\u00e9al-Python\n",
      "        * Speaker\n",
      "        * Events : monthly meetings (MP), project nights, sprints, workshops, PyCon\n",
      "        * Workshops\n",
      "        * Sponsors\n",
      "    * What about you?\n",
      "        * Students?\n",
      "        * Programmers?\n",
      "        * Teachers? \n",
      "* Objectives\n",
      "    * know the architecture of a project : main files\n",
      "    * manage data in the admin *backend*\n",
      "    * present data in the *frontend*\n",
      "* Documentation\n",
      "    * doc : good version of Django\n",
      "        * official : [https://docs.djangoproject.com/en/1.5/](https://docs.djangoproject.com/en/1.5/)\n",
      "        * French : [http://docs.django-fr.org/](http://docs.django-fr.org/)\n",
      "    * tutorial\n",
      "        * Part 1 : create a project, create an app, play with ORM (API) *covered here*\n",
      "        * Part 2 : backend (admin) *covered here*\n",
      "        * Part 3 : frontend *covered here, even more straightforward*\n",
      "        * Part 4 : forms and generic views *not covered here*\n",
      "* Technical environment\n",
      "    * Montr\u00e9al-Python's Ubuntu virtual machine (strongly recommended) : [installation](http://bit.ly/18eiMIO)\n",
      "    * Django 1.5 and South 0.8 : [installation on Montr\u00e9al-Python's Ubuntu virtual machine](http://bit.ly/1gLVHCd) (strongly recommended)\n",
      "    * For the rest of this presentation, we assume that you're working in a Montr\u00e9al-Python's Ubuntu virtual machine with your Python virtual environment activated.\n",
      "\n",
      "* Workshop's local directory\n",
      "    * create a directory for the workshop\n",
      "        * open your Personal Folder (folder icon in the app launcher bar in the left)\n",
      "        * create a directory named \"`workshops`\" if it doesn't exist (right-click + create a new folder)\n",
      "        * open the \"`workshops`\" directory and create there a subdirectory named \"`django`\"\n",
      "    * open a terminal (black icon in the app launcher bar in the left))<br />\n",
      "        `montreal-python@mp-virtualbox:~$`<br />\n",
      "    * go to the workshop's directory<br />\n",
      "        `montreal-python@mp-virtualbox:~$ cd workshops/django`<br />\n",
      "    * activate the Python virtual environment<br />\n",
      "        `montreal-python@mp-virtualbox:~/workshops/django$ source venv/bin/activate`<br />\n",
      "    * you should have this prompt in your terminal :<br />\n",
      "        `(venv)montreal-python@mp-virtualbox:~/workshops/django$`<br />\n",
      "    * for simplicity, in this document we'll note this prompt this way : <br />\n",
      "    `$`"
     ]
    },
    {
     "cell_type": "raw",
     "metadata": {},
     "source": [
      "$"
     ]
    },
    {
     "cell_type": "markdown",
     "metadata": {},
     "source": [
      "---\n",
      "\n",
      "## PART 1 : WEB DEVELOPMENT WITH DJANGO : ARCHITECTURE OF A PROJECT\n",
      "\n",
      "### Web development\n",
      "\n",
      "* schema : [web development](http://bit.ly/1cAIcDP)\n",
      "    * web framework's role : helps build a response to a request\n",
      "* environments\n",
      "    * development (DEV)\n",
      "    * deployment (TEST, PROD)\n",
      "\n",
      "### Django\n",
      "\n",
      "Why Django vs other framework (ex.: CherryPy, Pyramid, web2py)\n",
      "\n",
      "* all-in-one\n",
      "* admin : best-seller ;)\n",
      "* docs\n",
      "* community : widespread use\n",
      "\n",
      "Main files\n",
      "\n",
      "* `urls.py`\n",
      "* `views.py`\n",
      "* `models.py`\n",
      "* `templates` (HTML)\n",
      "* `admin.py`\n",
      "\n",
      "### Project : requirements\n",
      "\n",
      "Montr\u00e9al-Python has a rugby league *(not true : DoesNotExist)*.<br />\n",
      "They contact you for a website that could manage the players and the teams...<br />\n",
      "... as well as plan the matches for the season.\n",
      "\n",
      "### Project : modeling\n",
      "\n",
      "* Team\n",
      "* Player\n",
      "* Season\n",
      "* Match\n",
      "\n",
      "---\n",
      "\n",
      "## PART 2 : HANDS-ON : PROJECT AND APPLICATIONS\n",
      "\n",
      "### Creating a project\n",
      "\n",
      "* create the `mp_rugby_league` project"
     ]
    },
    {
     "cell_type": "raw",
     "metadata": {},
     "source": [
      "$ django-admin.py startproject mp_rugby_league"
     ]
    },
    {
     "cell_type": "markdown",
     "metadata": {},
     "source": [
      "* go to django project created"
     ]
    },
    {
     "cell_type": "raw",
     "metadata": {},
     "source": [
      "$ cd mp_rugby_league"
     ]
    },
    {
     "cell_type": "markdown",
     "metadata": {},
     "source": [
      "* overview of the generated files\n",
      "* launch the development server"
     ]
    },
    {
     "cell_type": "raw",
     "metadata": {},
     "source": [
      "$ python manage.py runserver"
     ]
    },
    {
     "cell_type": "markdown",
     "metadata": {},
     "source": [
      "* configure the database<br />\n",
      "`mp_rugby_league/settings.py`"
     ]
    },
    {
     "cell_type": "code",
     "collapsed": false,
     "input": [
      "DATABASES = {\n",
      "    'default': {\n",
      "        'ENGINE': 'django.db.backends.sqlite3', # Add 'postgresql_psycopg2', 'mysql', 'sqlite3' or 'oracle'.\n",
      "        'NAME': 'mp_rugby_league.db',                      # Or path to database file if using sqlite3.\n",
      "        'USER': '',                      # Not used with sqlite3.\n",
      "        'PASSWORD': '',                  # Not used with sqlite3.\n",
      "        'HOST': '',                      # Set to empty string for localhost. Not used with sqlite3.\n",
      "        'PORT': '',                      # Set to empty string for default. Not used with sqlite3.\n",
      "    }\n",
      "}"
     ],
     "language": "python",
     "metadata": {},
     "outputs": []
    },
    {
     "cell_type": "markdown",
     "metadata": {},
     "source": [
      "### Creating an application\n",
      "\n",
      "* create the `league` application"
     ]
    },
    {
     "cell_type": "raw",
     "metadata": {},
     "source": [
      "$ python manage.py startapp league"
     ]
    },
    {
     "cell_type": "markdown",
     "metadata": {},
     "source": [
      "* overview of the generated files\n",
      "* code models<br >\n",
      "`league/models.py`\n",
      "    * documentation :\n",
      "        * [https://docs.djangoproject.com/en/1.5/topics/db/models/](https://docs.djangoproject.com/en/1.5/topics/db/models/)\n",
      "        * [https://docs.djangoproject.com/en/1.5/ref/models/fields/](https://docs.djangoproject.com/en/1.5/ref/models/fields/)\n",
      "    * yeah! let's code!\n",
      "        * Team.nom\n",
      "        * Player.nom"
     ]
    },
    {
     "cell_type": "code",
     "collapsed": false,
     "input": [
      "from django.db import models\n",
      "\n",
      "class Team(models.Model):\n",
      "    pass  # code fields here\n",
      "\n",
      "class Player(models.Model):\n",
      "    pass  # code fields here"
     ],
     "language": "python",
     "metadata": {},
     "outputs": []
    },
    {
     "cell_type": "markdown",
     "metadata": {},
     "source": [
      "* install the `league` application<br />\n",
      "`mp_rugby_league/settings.py`"
     ]
    },
    {
     "cell_type": "code",
     "collapsed": false,
     "input": [
      "INSTALLED_APPS = (\n",
      "    # ...\n",
      "    'league',\n",
      ")"
     ],
     "language": "python",
     "metadata": {},
     "outputs": []
    },
    {
     "cell_type": "markdown",
     "metadata": {},
     "source": [
      "### South\n",
      "\n",
      "* install South in the project<br />\n",
      "`mp_rugby_league/settings.py`"
     ]
    },
    {
     "cell_type": "code",
     "collapsed": false,
     "input": [
      "INSTALLED_APPS = (\n",
      "    # ...\n",
      "    'south',\n",
      ")"
     ],
     "language": "python",
     "metadata": {},
     "outputs": []
    },
    {
     "cell_type": "markdown",
     "metadata": {},
     "source": [
      "* create a migration for a new app"
     ]
    },
    {
     "cell_type": "raw",
     "metadata": {},
     "source": [
      "$ python manage.py schemamigration league --initial"
     ]
    },
    {
     "cell_type": "markdown",
     "metadata": {},
     "source": [
      "* *create a migration for an existing app (not the case here)*"
     ]
    },
    {
     "cell_type": "raw",
     "metadata": {},
     "source": [
      "$ python manage.py schemamigration --auto"
     ]
    },
    {
     "cell_type": "markdown",
     "metadata": {},
     "source": [
      "* create the South tables in database"
     ]
    },
    {
     "cell_type": "raw",
     "metadata": {},
     "source": [
      "$ python manage.py syncdb"
     ]
    },
    {
     "cell_type": "markdown",
     "metadata": {},
     "source": [
      "* apply the migrations"
     ]
    },
    {
     "cell_type": "raw",
     "metadata": {},
     "source": [
      "$ python manage.py migrate league"
     ]
    },
    {
     "cell_type": "markdown",
     "metadata": {},
     "source": [
      "### Backend : managing data in the admin\n",
      "\n",
      "* activate urls leading to the admin interface  : *uncomment*<br />\n",
      "\n",
      "`mp_rugby_league/urls.py`"
     ]
    },
    {
     "cell_type": "code",
     "collapsed": false,
     "input": [
      "# ...\n",
      "\n",
      "from django.contrib import admin\n",
      "admin.autodiscover()\n",
      "\n",
      "urlpatterns = patterns('',\n",
      "    # ...\n",
      "    url(r'^admin/', include(admin.site.urls)),\n",
      ")"
     ],
     "language": "python",
     "metadata": {},
     "outputs": []
    },
    {
     "cell_type": "markdown",
     "metadata": {},
     "source": [
      "* [http://127.0.0.1:8000/](http://127.0.0.1:8000/)\n",
      "* install the admin app in the project<br />\n",
      "`mp_rugby_league/settings.py`"
     ]
    },
    {
     "cell_type": "code",
     "collapsed": false,
     "input": [
      "INSTALLED_APPS = (\n",
      "    # ...\n",
      "    'django.contrib.admin',\n",
      "    # ...\n",
      ")"
     ],
     "language": "python",
     "metadata": {},
     "outputs": []
    },
    {
     "cell_type": "markdown",
     "metadata": {},
     "source": [
      "* create the admin tables in database"
     ]
    },
    {
     "cell_type": "raw",
     "metadata": {},
     "source": [
      "$ python manage.py syncdb"
     ]
    },
    {
     "cell_type": "markdown",
     "metadata": {},
     "source": [
      "* [http://127.0.0.1:8000/admin/](http://127.0.0.1:8000/admin/)\n",
      "\n",
      "* register the models in the admin : *[see tutorial Part 2](https://docs.djangoproject.com/en/1.5/intro/tutorial02/)*<br />\n",
      "`league/admin.py`"
     ]
    },
    {
     "cell_type": "code",
     "collapsed": false,
     "input": [
      "from django.contrib import admin\n",
      "\n",
      "from ligue.models import Team, Player\n",
      "\n",
      "admin.site.register(Team)\n",
      "admin.site.register(Player)"
     ],
     "language": "python",
     "metadata": {},
     "outputs": []
    },
    {
     "cell_type": "markdown",
     "metadata": {},
     "source": [
      "* prettify the models for a better readability in the admin<br />\n",
      "`league/models.py`"
     ]
    },
    {
     "cell_type": "code",
     "collapsed": false,
     "input": [
      "def __unicode__(self):\n",
      "    return \"\"  # code here the desired string to return"
     ],
     "language": "python",
     "metadata": {},
     "outputs": []
    },
    {
     "cell_type": "markdown",
     "metadata": {},
     "source": [
      "* add iteratively more info on the models\n",
      "    * Player.fisrtname\n",
      "    * Player.date_of_birth"
     ]
    },
    {
     "cell_type": "markdown",
     "metadata": {},
     "source": [
      "* if South is installed, create and apply the migration :"
     ]
    },
    {
     "cell_type": "raw",
     "metadata": {},
     "source": [
      "$ python manage.py schemamigration league --auto"
     ]
    },
    {
     "cell_type": "markdown",
     "metadata": {},
     "source": [
      " "
     ]
    },
    {
     "cell_type": "raw",
     "metadata": {},
     "source": [
      "$ python manage.py migrate league"
     ]
    },
    {
     "cell_type": "markdown",
     "metadata": {},
     "source": [
      "* otherwise :\n",
      "    * delete `mp_rugby_league.db`\n",
      "    * recreate the tables"
     ]
    },
    {
     "cell_type": "raw",
     "metadata": {},
     "source": [
      "$ python manage.py syncdb"
     ]
    },
    {
     "cell_type": "markdown",
     "metadata": {},
     "source": [
      "* add a relation between `Player` and `Team`<br />\n",
      "    `league/models.py`\n",
      "    * add :<br />\n",
      "    `Player.team`\n",
      "    * modify the database accordingly :\n",
      "        * south : create and apply a migration\n",
      "        * else : delete DB and syncdb\n",
      "\n",
      "* add some Teams and Players in the admin\n",
      "\n",
      "### Frontend : present the data\n",
      "\n",
      "* create an URL for the home page :\n",
      "[https://docs.djangoproject.com/en/1.5/topics/http/urls/](https://docs.djangoproject.com/en/1.5/topics/http/urls/)<br />\n",
      "`mp_rugby_league/urls.py`"
     ]
    },
    {
     "cell_type": "code",
     "collapsed": false,
     "input": [
      "urlpatterns = patterns('',\n",
      "    url(r'^$', 'mp_rugby_league.views.home', name='home'),\n",
      "    # ...\n",
      ")"
     ],
     "language": "python",
     "metadata": {},
     "outputs": []
    },
    {
     "cell_type": "markdown",
     "metadata": {},
     "source": [
      "* create the code that will generate the home page<br />\n",
      "`mp_rugby_league/views.py`\n",
      "    * [https://docs.djangoproject.com/en/1.5/topics/http/views/](https://docs.djangoproject.com/en/1.5/topics/http/views/)\n",
      "    * *[see tutorial Part 3 (shortcut version)](https://docs.djangoproject.com/en/1.5/intro/tutorial03/)*"
     ]
    },
    {
     "cell_type": "code",
     "collapsed": false,
     "input": [
      "from django.shortcuts import render\n",
      "\n",
      "def home(request):\n",
      "    c = { }\n",
      "    return render(request, 'home.html', c)"
     ],
     "language": "python",
     "metadata": {},
     "outputs": []
    },
    {
     "cell_type": "markdown",
     "metadata": {},
     "source": [
      "* `templates` [https://docs.djangoproject.com/en/1.5/topics/templates/](https://docs.djangoproject.com/en/1.5/topics/templates/)\n",
      "    * create `templates` directory in `mp_rugby_league`\n",
      "    * configure the project so it knows where to get the templates by default<br />\n",
      "    `mp_rugby_league/settings.py`"
     ]
    },
    {
     "cell_type": "code",
     "collapsed": false,
     "input": [
      "import os\n",
      "\n",
      "# ...\n",
      "\n",
      "TEMPLATE_DIRS = (\n",
      "    os.path.join(os.path.dirname(__file__), \"templates\"),\n",
      ")"
     ],
     "language": "python",
     "metadata": {},
     "outputs": []
    },
    {
     "cell_type": "markdown",
     "metadata": {},
     "source": [
      "* create the home page template<br />\n",
      "`mp_rugby_league/templates/home.html`\n",
      "\n",
      "* pass a variable to a template<br />\n",
      "`mp_rugby_league/views.py`\n",
      "\n",
      "* use a variable in a template<br />\n",
      "`mp_rugby_league/templates/home.html`"
     ]
    },
    {
     "cell_type": "raw",
     "metadata": {},
     "source": [
      "{{ var }}"
     ]
    },
    {
     "cell_type": "markdown",
     "metadata": {},
     "source": [
      "* `views.py` : *where you code the Python logic...<br />\n",
      "...easier you explore interactively what you can do.*"
     ]
    },
    {
     "cell_type": "raw",
     "metadata": {},
     "source": [
      "$ python manage.py shell"
     ]
    },
    {
     "cell_type": "markdown",
     "metadata": {},
     "source": [
      "* ORM (API) : object-relational mapping"
     ]
    },
    {
     "cell_type": "code",
     "collapsed": false,
     "input": [
      "from league.models import *\n",
      "teams = Team.objects.all()\n",
      "for t in teams: print t\n",
      "t = teams[0]\n",
      "t.player_set.all()\n",
      "p = Player.objects.get(id=1)\n",
      "p.id\n",
      "p = Player.objects.get(id=314)\n",
      "t.id\n",
      "players = Player.objects.filter(team__name__startswith='Pyth')"
     ],
     "language": "python",
     "metadata": {},
     "outputs": []
    },
    {
     "cell_type": "markdown",
     "metadata": {},
     "source": [
      "* facilitate the access syntax to related objects<br />\n",
      "`league/models.py`"
     ]
    },
    {
     "cell_type": "code",
     "collapsed": false,
     "input": [
      "related_name = \"teams\""
     ],
     "language": "python",
     "metadata": {},
     "outputs": []
    },
    {
     "cell_type": "markdown",
     "metadata": {},
     "source": [
      "* relaunch shell"
     ]
    },
    {
     "cell_type": "code",
     "collapsed": false,
     "input": [
      "t.players.all()\n",
      "t.players.count()"
     ],
     "language": "python",
     "metadata": {},
     "outputs": []
    },
    {
     "cell_type": "markdown",
     "metadata": {},
     "source": [
      "* pass relevant variables for home page<br />\n",
      "after the interactive exploration of the ORM in the shell<br />\n",
      "`mp_rugby_league/views.py`\n",
      "\n",
      "* iterate on querysets in the template<br />\n",
      "`mp_rugby_league/templates/home.html`"
     ]
    },
    {
     "cell_type": "markdown",
     "metadata": {},
     "source": [
      "<pre>\n",
      "{% for t in teams %}\n",
      "{% endfor %}\n",
      "</pre>"
     ]
    },
    {
     "cell_type": "markdown",
     "metadata": {},
     "source": [
      "---\n",
      "\n",
      "## PART 3 : DECKED OUT MPRL PROJECT\n",
      "\n",
      "### Template inheritance\n",
      "\n",
      "* `mp_rugby_league/templates/base.html`\n"
     ]
    },
    {
     "cell_type": "markdown",
     "metadata": {},
     "source": [
      "<pre>\n",
      "{% block main %}\n",
      "{% endblock %}\n",
      "</pre>"
     ]
    },
    {
     "cell_type": "markdown",
     "metadata": {},
     "source": [
      "* `templates/`"
     ]
    },
    {
     "cell_type": "markdown",
     "metadata": {},
     "source": [
      "<pre>\n",
      "{% extends \"base.html\" %}\n",
      "\n",
      "{% block main %}\n",
      "{% endblock %}\n",
      "</pre>"
     ]
    },
    {
     "cell_type": "markdown",
     "metadata": {},
     "source": [
      "### URL with parameters\n",
      "\n",
      "* import of an app urls, here the one of the `league` app<br />\n",
      "`mp_rugby_league/urls.py`"
     ]
    },
    {
     "cell_type": "code",
     "collapsed": false,
     "input": [
      "urlpatterns = patterns('',\n",
      "    # ...\n",
      "    url(r'^', include('league.urls')),\n",
      ")"
     ],
     "language": "python",
     "metadata": {},
     "outputs": []
    },
    {
     "cell_type": "markdown",
     "metadata": {},
     "source": [
      "* detail pages : retrieve the object's id from the URL<br />\n",
      "`league/urls.py`"
     ]
    },
    {
     "cell_type": "code",
     "collapsed": false,
     "input": [
      "from django.conf.urls.defaults import patterns\n",
      "\n",
      "urlpatterns = patterns('league.views',\n",
      "    url(r'^teams/(?P<id>\\d+)$', 'team_detail', name=\"team\"),\n",
      ")"
     ],
     "language": "python",
     "metadata": {},
     "outputs": []
    },
    {
     "cell_type": "markdown",
     "metadata": {},
     "source": [
      "* obtain object's id in the view and get the object from the DB<br />\n",
      "`league/views.py`"
     ]
    },
    {
     "cell_type": "code",
     "collapsed": false,
     "input": [
      "from django.shortcuts import render\n",
      "\n",
      "from league.models import Team\n",
      "\n",
      "def team_detail(request, id):\n",
      "    team = Team.objects.get(id=id)\n",
      "    c = {\n",
      "        'team': team,\n",
      "    }\n",
      "    return render(request, \"league/team_detail.html\", c)"
     ],
     "language": "python",
     "metadata": {},
     "outputs": []
    },
    {
     "cell_type": "markdown",
     "metadata": {},
     "source": [
      "* use the object in the template<br />\n",
      "`league/templates/league/team_detail.html`"
     ]
    },
    {
     "cell_type": "raw",
     "metadata": {},
     "source": [
      "{{ team.name }}"
     ]
    },
    {
     "cell_type": "markdown",
     "metadata": {},
     "source": [
      "### Spruced up Admin : ModelAdmin\n",
      "\n",
      "[https://docs.djangoproject.com/en/1.5/ref/contrib/admin/](https://docs.djangoproject.com/en/1.5/ref/contrib/admin/)\n",
      "\n",
      "* classes inheriting from `ModelAdmin` : `TeamAdmin`, `PlayerAdmin`<br />\n",
      "`league/admin.py`"
     ]
    },
    {
     "cell_type": "code",
     "collapsed": false,
     "input": [
      "class TeamAdmin(admin.ModelAdmin):\n",
      "    pass\n",
      "\n",
      "class PlayerAdmin(admin.ModelAdmin):\n",
      "    pass"
     ],
     "language": "python",
     "metadata": {},
     "outputs": []
    },
    {
     "cell_type": "markdown",
     "metadata": {},
     "source": [
      "* register Model with ModelAdmin"
     ]
    },
    {
     "cell_type": "code",
     "collapsed": false,
     "input": [
      "admin.site.register(Team, TeamAdmin)\n",
      "admin.site.register(Player, PlayerAdmin)"
     ],
     "language": "python",
     "metadata": {},
     "outputs": []
    },
    {
     "cell_type": "markdown",
     "metadata": {},
     "source": [
      "* configure the ModelAdmin"
     ]
    },
    {
     "cell_type": "code",
     "collapsed": false,
     "input": [
      "list_display\n",
      "search_fields\n",
      "list_filter"
     ],
     "language": "python",
     "metadata": {},
     "outputs": []
    },
    {
     "cell_type": "markdown",
     "metadata": {},
     "source": [
      "* plus? [https://docs.djangoproject.com/en/1.5/ref/contrib/admin/](https://docs.djangoproject.com/en/1.5/ref/contrib/admin/)\n",
      "    * fields\n",
      "    * fieldsets\n",
      "    * ...\n",
      "\n",
      "### Jump in time : download source\n",
      "\n",
      "* Download the [sources of the fancy project](http://bit.ly/1g3mfj4)\n",
      "\n",
      "* Extract\n",
      "\n",
      "* Fancy? What's new?\n",
      "\n",
      "### Static files : CSS, images et js\n",
      "\n",
      "[https://docs.djangoproject.com/en/1.5/howto/static-files/](https://docs.djangoproject.com/en/1.5/howto/static-files/)\n",
      "\n",
      "* directory : `mp_rugby_league/static`\n",
      "    * `css`\n",
      "    * `images`\n",
      "    * `js`\n",
      "\n",
      "* `mp_rugby_league/settings.py`"
     ]
    },
    {
     "cell_type": "code",
     "collapsed": false,
     "input": [
      "PROJECT_ROOT = os.path.dirname(__file__)\n",
      "SITE_ROOT = os.path.dirname(PROJECT_ROOT)\n",
      "\n",
      "MEDIA_ROOT = os.path.join(PROJECT_ROOT, 'media')\n",
      "MEDIA_URL = '/media/'\n",
      "\n",
      "STATIC_ROOT = os.path.join(SITE_ROOT, 'site_static')\n",
      "STATIC_URL = '/static/'\n",
      "STATICFILES_DIRS = (\n",
      "    os.path.join(PROJECT_ROOT, 'static'),\n",
      ")"
     ],
     "language": "python",
     "metadata": {},
     "outputs": []
    },
    {
     "cell_type": "markdown",
     "metadata": {},
     "source": [
      "* `mp_rugby_league/urls.py`"
     ]
    },
    {
     "cell_type": "code",
     "collapsed": false,
     "input": [
      "from django.contrib.staticfiles.urls import staticfiles_urlpatterns\n",
      "\n",
      "# ...\n",
      "\n",
      "urlpatterns += staticfiles_urlpatterns()"
     ],
     "language": "python",
     "metadata": {},
     "outputs": []
    },
    {
     "cell_type": "markdown",
     "metadata": {},
     "source": [
      "* `templates`"
     ]
    },
    {
     "cell_type": "raw",
     "metadata": {},
     "source": [
      "{{ STATIC_URL }}"
     ]
    },
    {
     "cell_type": "markdown",
     "metadata": {},
     "source": [
      "### Spiffy templates\n",
      "\n",
      "* `mp_rugby_league/templates/base.html`\n",
      "\n",
      "### User connexion\n",
      "\n",
      "* `mp_rugby_league/templates`\n",
      "    * `connexion.html`\n",
      "    * `deconnexion.html`\n",
      "\n",
      "* `mp_rugby_league/urls.py`"
     ]
    },
    {
     "cell_type": "code",
     "collapsed": false,
     "input": [
      "urlpatterns = patterns('',\n",
      "    # ...\n",
      "    url(r'^login/$', 'django.contrib.auth.views.login', \n",
      "        dict(template_name='connexion.html',), \n",
      "        'connexion'\n",
      "    ),\n",
      "    url(r'^logout/$', 'django.contrib.auth.views.logout', \n",
      "        dict(template_name='deconnexion.html',), \n",
      "        'deconnexion'\n",
      "    ),\n",
      "    # ...\n",
      ")"
     ],
     "language": "python",
     "metadata": {},
     "outputs": []
    },
    {
     "cell_type": "markdown",
     "metadata": {},
     "source": [
      "* `mp_rugby_league/settings.py`"
     ]
    },
    {
     "cell_type": "code",
     "collapsed": false,
     "input": [
      "LOGIN_URL = \"/login/\" \n",
      "LOGIN_REDIRECT_URL = \"/\""
     ],
     "language": "python",
     "metadata": {},
     "outputs": []
    },
    {
     "cell_type": "markdown",
     "metadata": {},
     "source": [
      "---\n",
      "\n",
      "## PART 4 : HANDS-ON : CREATING THE SEASON APP FOR THE MPRL PROJECT\n",
      "\n",
      "### Create a calendar app\n",
      "\n",
      "### Add the Match and Season models\n",
      "\n",
      "* Match\n",
      "    * date\n",
      "    * place\n",
      "    * team1\n",
      "    * team2\n",
      "    * score1\n",
      "    * score2\n",
      "* Season\n",
      "    * ...\n",
      "\n",
      "### Other exercise : age of a player\n",
      "\n",
      "* Player.date_of_birth\n",
      "* Player.age()<br />\n",
      "*add an `age()` method on the Player class using the date of birth*\n",
      "\n",
      "---\n",
      "\n",
      "## CONCLUSION : FROM HERE ON\n",
      "\n",
      "* Other aspects not coverd here (some of them)\n",
      "    * permissions and decorators\n",
      "    * manage.py inspectdb *[legacy database](https://docs.djangoproject.com/en/1.5/howto/legacy-databases/)*\n",
      "    * fixtures : [initial data and test data](https://docs.djangoproject.com/en/1.5/howto/initial-data/)\n",
      "    * manage.py test\n",
      "    * forms\n",
      "    * generic views\n",
      "    * templates : tags, filtres\n",
      "\n",
      "* Mailing list Django users :<br />\n",
      "[http://groups.google.com/group/django-users](http://groups.google.com/group/django-users)\n",
      "\n",
      "* Channel IRC #django :<br />\n",
      "irc://irc.freenode.net/django\n",
      "\n",
      "* Contribs, plugins<br />\n",
      "[https://docs.djangoproject.com/en/dev/ref/contrib/](https://docs.djangoproject.com/en/dev/ref/contrib/)\n",
      "    * south\n",
      "    * reversion\n",
      "    * Other : pypi<br />\n",
      "[http://pypi.python.org/](http://pypi.python.org/)\n",
      "\n",
      "* Montr\u00e9al-Python : \n",
      "    * enter in the community\n",
      "    * events to come\n",
      "\n",
      "* Enjoy!\n",
      "\n",
      "---\n",
      "\n",
      "## SATISFACTION SURVEY\n",
      "\n",
      "We want to be better, your opinion is important to us!<br />\n",
      "Thanks to take 5 minutes of your time to give us feedback.\n",
      "\n",
      "* [http://fr.surveymonkey.com/s/YHLGKJQ](http://fr.surveymonkey.com/s/YHLGKJQ)"
     ]
    }
   ],
   "metadata": {}
  }
 ]
}
