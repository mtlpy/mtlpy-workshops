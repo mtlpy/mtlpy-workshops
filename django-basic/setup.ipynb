{
 "metadata": {
  "name": ""
 },
 "nbformat": 3,
 "nbformat_minor": 0,
 "worksheets": [
  {
   "cells": [
    {
     "cell_type": "markdown",
     "metadata": {},
     "source": [
      "# Django : Basic Introduction\n",
      "\n",
      "## Technical Environment\n",
      "\n",
      "### Ubuntu Virtual Machine\n",
      "\n",
      "* install a Ubuntu virtual machine on your computer : [instructions](http://bit.ly/18eiMIO)\n",
      "* launch the Montr\u00e9al-Python's Ubuntu virtual machine\n",
      "    * launch VirtualBox\n",
      "    * double-clic on the \"Montreal-Python\" machine\n",
      "    \n",
      "### Local directory of the project\n",
      "\n",
      "* create a directory for the workshop\n",
      "    * open your Personal Folder (folder icon in the app launcher bar in the left)\n",
      "    * create a directory named \"workshops\" if it doesn't exists (right-clic + create a new folder)\n",
      "    * open de \"workshops\" directory and create there a subdirectory named \"django\"\n",
      "* open a terminal (black icon in the app launcher bar in the left)"
     ]
    },
    {
     "cell_type": "raw",
     "metadata": {},
     "source": [
      "montreal-python@mp-virtualbox:~$"
     ]
    },
    {
     "cell_type": "markdown",
     "metadata": {},
     "source": [
      "* go to the workshop folder\n",
      "    * cd = \"change directory\""
     ]
    },
    {
     "cell_type": "raw",
     "metadata": {},
     "source": [
      "montreal-python@mp-virtualbox:~$ cd workshops/django"
     ]
    },
    {
     "cell_type": "markdown",
     "metadata": {},
     "source": [
      "### Python Virtual Environment\n",
      "\n",
      "* create a Python virtual environment for the workshop (named \"venv\", for instance)\n",
      "    * we're creating Python virtual environments with virtualenv\n",
      "    * virtualenv is pre-installed on Montr\u00e9al-Python's Ubuntu virtual machine"
     ]
    },
    {
     "cell_type": "raw",
     "metadata": {},
     "source": [
      "montreal-python@mp-virtualbox:~/workshops/django$ virtualenv --system-site-packages venv"
     ]
    },
    {
     "cell_type": "markdown",
     "metadata": {},
     "source": [
      "* activate the Python virtual environment created"
     ]
    },
    {
     "cell_type": "raw",
     "metadata": {},
     "source": [
      "montreal-python@mp-virtualbox:~/workshops/django$ source venv/bin/activate"
     ]
    },
    {
     "cell_type": "markdown",
     "metadata": {},
     "source": [
      "* notice that the virtual environment is activated : there's a (venv) if front of the prompt of the terminal after activation\n",
      "\n",
      "### Dependancies Installation\n",
      "\n",
      "* install the Django workshop dependancies\n",
      "* install Django 1.5.4\n",
      "    * downloads 8 Mb and installs Django in your \"venv\" Python virtual environment"
     ]
    },
    {
     "cell_type": "raw",
     "metadata": {},
     "source": [
      "(venv)montreal-python@mp-virtualbox:~/workshops/django$ pip install Django==1.5.4"
     ]
    },
    {
     "cell_type": "markdown",
     "metadata": {},
     "source": [
      "* install South 0.8.2\n",
      "    * downloads 95 kb and installs South in your \"venv\" Python virtual environment"
     ]
    },
    {
     "cell_type": "raw",
     "metadata": {},
     "source": [
      "(venv)montreal-python@mp-virtualbox:~/workshops/django$ pip install South==0.8.2"
     ]
    },
    {
     "cell_type": "markdown",
     "metadata": {},
     "source": [
      "* that's all, you now have the workshop's technical environment\n",
      "\n",
      "### Verification\n",
      "\n",
      "* check that the dependancies can be correctly imported\n",
      "* launch the python or ipython interpreter"
     ]
    },
    {
     "cell_type": "raw",
     "metadata": {},
     "source": [
      "(venv)montreal-python@mp-virtualbox:~/workshops/django$ ipython"
     ]
    },
    {
     "cell_type": "markdown",
     "metadata": {},
     "source": [
      "* double-check the Django version"
     ]
    },
    {
     "cell_type": "code",
     "collapsed": false,
     "input": [
      "import django"
     ],
     "language": "python",
     "metadata": {},
     "outputs": []
    },
    {
     "cell_type": "code",
     "collapsed": false,
     "input": [
      "django.get_version()"
     ],
     "language": "python",
     "metadata": {},
     "outputs": []
    },
    {
     "cell_type": "markdown",
     "metadata": {},
     "source": [
      "* double-check the South version"
     ]
    },
    {
     "cell_type": "code",
     "collapsed": false,
     "input": [
      "import south"
     ],
     "language": "python",
     "metadata": {},
     "outputs": []
    },
    {
     "cell_type": "code",
     "collapsed": false,
     "input": [
      "south.__version__"
     ],
     "language": "python",
     "metadata": {},
     "outputs": []
    },
    {
     "cell_type": "markdown",
     "metadata": {},
     "source": [
      "### Close the workspace\n",
      "\n",
      "You can now close the entire workspace, we'll launch back everything at the start of the workshop.\n",
      "\n",
      "* close ipython"
     ]
    },
    {
     "cell_type": "code",
     "collapsed": false,
     "input": [
      "exit()"
     ],
     "language": "python",
     "metadata": {},
     "outputs": []
    },
    {
     "cell_type": "markdown",
     "metadata": {},
     "source": [
      "* deactivate the \"venv\" Python virtual environment"
     ]
    },
    {
     "cell_type": "raw",
     "metadata": {},
     "source": [
      "(venv)montreal-python@mp-virtualbox:~/workshops/django$ deactivate"
     ]
    },
    {
     "cell_type": "markdown",
     "metadata": {},
     "source": [
      "* close the terminal (click on the X on top of the window)\n",
      "* close the file browser (click on the X on top of the window)\n",
      "* close the Ubuntu virtual machine\n",
      "    * in th screen you've launched the virtual machine, right-click + close + shut down (confirm everything, you won't loose data)"
     ]
    }
   ],
   "metadata": {}
  }
 ]
}