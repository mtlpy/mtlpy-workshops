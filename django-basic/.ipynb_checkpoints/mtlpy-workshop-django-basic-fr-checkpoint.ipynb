{
 "metadata": {
  "name": ""
 },
 "nbformat": 3,
 "nbformat_minor": 0,
 "worksheets": [
  {
   "cells": [
    {
     "cell_type": "markdown",
     "metadata": {},
     "source": [
      "# Atelier Django : introduction de base\n",
      "\n",
      "---\n",
      "\n",
      "## INTRODUCTION\n",
      "\n",
      "* Pr\u00e9sentations\n",
      "    * Montr\u00e9al-Python\n",
      "        * Pr\u00e9sentateur\n",
      "        * \u00c9v\u00e9nements : conf\u00e9rence mensuelle (MP), soir\u00e9es projets, sprints, ateliers, PyCon\n",
      "        * Ateliers\n",
      "        * Sponsors\n",
      "    * Et vous?\n",
      "        * \u00c9tudiants?\n",
      "        * Programmeurs?\n",
      "        * Professeurs? \n",
      "* Objectifs\n",
      "    * conna\u00eetre l'architecture d'un projet : principaux fichiers\n",
      "    * g\u00e9rer data dans *backend*\n",
      "    * pr\u00e9senter data dans *frontend*\n",
      "* Documentation\n",
      "    * doc : bonne version de django\n",
      "        * officielle : [https://docs.djangoproject.com/en/1.5/](https://docs.djangoproject.com/en/1.5/)\n",
      "        * fran\u00e7ais : [http://docs.django-fr.org/](http://docs.django-fr.org/)\n",
      "    * tutoriel\n",
      "        * Part 1 : cr\u00e9er un projet, cr\u00e9er une app, jouer avec ORM (API) *couvert ici*\n",
      "        * Part 2 : backend (admin) *couvert ici*\n",
      "        * Part 3 : frontend *couvert ici, plus straightforward m\u00eame*\n",
      "        * Part 4 : forms et vues g\u00e9n\u00e9riques *pas couvert ici*\n",
      "* Environnement technique\n",
      "    * Machine virtuelle Ubuntu de Montr\u00e9al-Python (fortement recommand\u00e9e) : [installation](http://bit.ly/1697xMF)\n",
      "    * Django 1.5 et South 0.8 : [installation sur machine virtuelle Ubuntu de Montr\u00e9al-Python](http://bit.ly/1bCp099) (fortement recommand\u00e9e)\n",
      "    * Pour la suite de cette documentation, on assume que vous travaillez dans la machine virtuelle Ubuntu de Montr\u00e9al-Python avec votre environnement virtuel Python lanc\u00e9.\n",
      "\n",
      "* R\u00e9pertoire local pour atelier\n",
      "    * cr\u00e9er un r\u00e9pertoire pour l'atelier\n",
      "        * ouvrir votre Dossier personnel (ic\u00f4ne de dossier dans le menu de gauche)\n",
      "        * cr\u00e9er un r\u00e9pertoire nomm\u00e9 \"`ateliers`\" si il n'existe pas (bouton de droite de souris + cr\u00e9er un nouveau dossier)\n",
      "        * ouvrir le r\u00e9pertoire \"`ateliers`\" et y cr\u00e9er un sous-r\u00e9pertoire nomm\u00e9 \"`django`\"\n",
      "    * ouvrir un terminal (ic\u00f4ne noire dans le menu de gauche)<br />\n",
      "        `montreal-python@mp-virtualbox:~$`<br />\n",
      "    * vous d\u00e9placer dans le r\u00e9pertoire de l'atelier<br />\n",
      "        `montreal-python@mp-virtualbox:~$ cd ateliers/django`<br />\n",
      "    * activer l'environnement virtuel Python<br />\n",
      "        `montreal-python@mp-virtualbox:~/ateliers/django$ source venv/bin/activate`<br />\n",
      "    * Vous devriez avoir ce prompt dans votre terminal :<br />\n",
      "        `(venv)montreal-python@mp-virtualbox:~/ateliers/django$`<br />\n",
      "    * par convention, dans ce document de pr\u00e9sentation, nous allons seulement noter le prompt comme ceci :<br />\n",
      "    `$`"
     ]
    },
    {
     "cell_type": "raw",
     "metadata": {},
     "source": [
      "$"
     ]
    },
    {
     "cell_type": "markdown",
     "metadata": {},
     "source": [
      "---\n",
      "\n",
      "## PARTIE 1 : D\u00c9VELOPPEMENT WEB AVEC DJANGO : ARCHITECTURE D'UN PROJET\n",
      "\n",
      "### D\u00e9veloppement web\n",
      "\n",
      "* sch\u00e9ma : le [d\u00e9veloppement web](http://montrealpython.org/r/attachments/13/web-development.jpg)\n",
      "    * r\u00f4le d'un framework web : aider \u00e0 construire r\u00e9ponse \u00e0 une requ\u00eate\n",
      "* environnements\n",
      "    * d\u00e9veloppement (DEV)\n",
      "    * d\u00e9ploiement (TEST, PROD)\n",
      "\n",
      "### Django\n",
      "\n",
      "Pourquoi Django vs autre framework (ex.: CherryPy, Pyramid, web2py)\n",
      "\n",
      "* tout-en-un\n",
      "* admin : meilleur vendeur ;)\n",
      "* docs\n",
      "* communaut\u00e9 : utilisation r\u00e9pandue\n",
      "\n",
      "Principaux fichiers\n",
      "\n",
      "* `urls.py`\n",
      "* `views.py`\n",
      "* `models.py`\n",
      "* `templates` (HTML)\n",
      "* `admin.py`\n",
      "\n",
      "### Projet : d\u00e9finition du besoin\n",
      "\n",
      "Montr\u00e9al-Python a une ligue de rugby *(ce n'est pas vrai : DoesNotExist)*.<br />\n",
      "On vous contacte pour cr\u00e9er un site web qui pourrait g\u00e9rer les joueurs et les \u00e9quipes...<br />\n",
      "... et planifier les matchs de la saison.\n",
      "\n",
      "### Projet : mod\u00e9lisation\n",
      "\n",
      "* Joueur\n",
      "* Equipe\n",
      "* Saison\n",
      "* Match\n",
      "\n",
      "---\n",
      "\n",
      "## PARTIE 2 : HANDS-ON : PROJET ET APPLICATIONS\n",
      "\n",
      "### Cr\u00e9ation du projet\n",
      "\n",
      "* cr\u00e9er le projet `ligue_rugby_mp`"
     ]
    },
    {
     "cell_type": "raw",
     "metadata": {},
     "source": [
      "$ django-admin.py startproject ligue_rugby_mp"
     ]
    },
    {
     "cell_type": "markdown",
     "metadata": {},
     "source": [
      "* se d\u00e9placer dans le projet django cr\u00e9\u00e9"
     ]
    },
    {
     "cell_type": "raw",
     "metadata": {},
     "source": [
      "$ cd ligue_rugby_mp"
     ]
    },
    {
     "cell_type": "markdown",
     "metadata": {},
     "source": [
      "* survol des fichiers g\u00e9n\u00e9r\u00e9s\n",
      "* lancer le serveur de d\u00e9veloppement"
     ]
    },
    {
     "cell_type": "raw",
     "metadata": {},
     "source": [
      "$ python manage.py runserver"
     ]
    },
    {
     "cell_type": "markdown",
     "metadata": {},
     "source": [
      "* configurer la base de donn\u00e9es<br />\n",
      "`settings.py`"
     ]
    },
    {
     "cell_type": "code",
     "collapsed": false,
     "input": [
      "DATABASES = {\n",
      "    'default': {\n",
      "        'ENGINE': 'django.db.backends.sqlite3', # Add 'postgresql_psycopg2', 'mysql', 'sqlite3' or 'oracle'.\n",
      "        'NAME': 'ligue_rugby_mp.db',                      # Or path to database file if using sqlite3.\n",
      "        'USER': '',                      # Not used with sqlite3.\n",
      "        'PASSWORD': '',                  # Not used with sqlite3.\n",
      "        'HOST': '',                      # Set to empty string for localhost. Not used with sqlite3.\n",
      "        'PORT': '',                      # Set to empty string for default. Not used with sqlite3.\n",
      "    }\n",
      "}"
     ],
     "language": "python",
     "metadata": {},
     "outputs": []
    },
    {
     "cell_type": "markdown",
     "metadata": {},
     "source": [
      "### Cr\u00e9ation d'une application\n",
      "\n",
      "* cr\u00e9er l'application `ligue`"
     ]
    },
    {
     "cell_type": "raw",
     "metadata": {},
     "source": [
      "$ python manage.py startapp ligue"
     ]
    },
    {
     "cell_type": "markdown",
     "metadata": {},
     "source": [
      "* survol fichiers\n",
      "* coder des mod\u00e8les<br />\n",
      "`ligue/models.py`\n",
      "    * documentation :\n",
      "        * [https://docs.djangoproject.com/en/1.5/topics/db/models/](https://docs.djangoproject.com/en/1.5/topics/db/models/)\n",
      "        * [https://docs.djangoproject.com/en/1.5/ref/models/fields/](https://docs.djangoproject.com/en/1.5/ref/models/fields/)\n",
      "    * yeah! on code!\n",
      "        * Equipe.nom\n",
      "        * Joueur.nom"
     ]
    },
    {
     "cell_type": "code",
     "collapsed": false,
     "input": [
      "from django.db import models\n",
      "\n",
      "class Equipe(models.Model):\n",
      "    pass  # code fields here\n",
      "\n",
      "class Joueur(models.Model):\n",
      "    pass  # code fields here"
     ],
     "language": "python",
     "metadata": {},
     "outputs": []
    },
    {
     "cell_type": "markdown",
     "metadata": {},
     "source": [
      "* installer l'application `ligue`<br />\n",
      "`settings.py`"
     ]
    },
    {
     "cell_type": "code",
     "collapsed": false,
     "input": [
      "INSTALLED_APPS = (\n",
      "    # ...\n",
      "    'ligue',\n",
      ")"
     ],
     "language": "python",
     "metadata": {},
     "outputs": []
    },
    {
     "cell_type": "markdown",
     "metadata": {},
     "source": [
      "### South\n",
      "\n",
      "* installer South dans le projet<br />\n",
      "`settings.py`"
     ]
    },
    {
     "cell_type": "code",
     "collapsed": false,
     "input": [
      "INSTALLED_APPS = (\n",
      "    # ...\n",
      "    'south',\n",
      ")"
     ],
     "language": "python",
     "metadata": {},
     "outputs": []
    },
    {
     "cell_type": "markdown",
     "metadata": {},
     "source": [
      "* cr\u00e9er une migration pour une nouvelle application"
     ]
    },
    {
     "cell_type": "raw",
     "metadata": {},
     "source": [
      "$ python manage.py schemamigration ligue --initial"
     ]
    },
    {
     "cell_type": "markdown",
     "metadata": {},
     "source": [
      "* *cr\u00e9er une migration pour un application existante (pas le cas ici)*"
     ]
    },
    {
     "cell_type": "raw",
     "metadata": {},
     "source": [
      "$ python manage.py schemamigration --auto"
     ]
    },
    {
     "cell_type": "markdown",
     "metadata": {},
     "source": [
      "* cr\u00e9er les tables de south"
     ]
    },
    {
     "cell_type": "raw",
     "metadata": {},
     "source": [
      "$ python manage.py syncdb"
     ]
    },
    {
     "cell_type": "markdown",
     "metadata": {},
     "source": [
      "* appliquer les migrations"
     ]
    },
    {
     "cell_type": "raw",
     "metadata": {},
     "source": [
      "$ python manage.py migrate ligue"
     ]
    },
    {
     "cell_type": "markdown",
     "metadata": {},
     "source": [
      "### Backend : g\u00e9rer les donn\u00e9es dans l'admin\n",
      "\n",
      "* activer les urls permettant l'acc\u00e8s \u00e0 l'interface d'admin : *d\u00e9commenter*<br />\n",
      "`urls.py`"
     ]
    },
    {
     "cell_type": "code",
     "collapsed": false,
     "input": [
      "# ...\n",
      "\n",
      "from django.contrib import admin\n",
      "admin.autodiscover()\n",
      "\n",
      "urlpatterns = patterns('',\n",
      "    # ...\n",
      "    url(r'^admin/', include(admin.site.urls)),\n",
      ")"
     ],
     "language": "python",
     "metadata": {},
     "outputs": []
    },
    {
     "cell_type": "markdown",
     "metadata": {},
     "source": [
      "* [http://127.0.0.1:8000/](http://127.0.0.1:8000/)\n",
      "* installer l'application d'admin dans le projet<br />\n",
      "`settings.py`"
     ]
    },
    {
     "cell_type": "code",
     "collapsed": false,
     "input": [
      "INSTALLED_APPS = (\n",
      "    # ...\n",
      "    'django.contrib.admin',\n",
      "    # ...\n",
      ")"
     ],
     "language": "python",
     "metadata": {},
     "outputs": []
    },
    {
     "cell_type": "markdown",
     "metadata": {},
     "source": [
      "* cr\u00e9er les tables de l'admin"
     ]
    },
    {
     "cell_type": "raw",
     "metadata": {},
     "source": [
      "$ python manage.py syncdb"
     ]
    },
    {
     "cell_type": "markdown",
     "metadata": {},
     "source": [
      "* [http://127.0.0.1:8000/admin/](http://127.0.0.1:8000/admin/)\n",
      "\n",
      "* enregistrer les mod\u00e8les dans l'admin : *[voir tutoriel Part 2](https://docs.djangoproject.com/en/1.5/intro/tutorial02/)*<br />\n",
      "`ligue/admin.py`"
     ]
    },
    {
     "cell_type": "code",
     "collapsed": false,
     "input": [
      "from django.contrib import admin\n",
      "\n",
      "from ligue.models import *\n",
      "\n",
      "admin.site.register(Equipe)\n",
      "admin.site.register(Joueur)"
     ],
     "language": "python",
     "metadata": {},
     "outputs": []
    },
    {
     "cell_type": "markdown",
     "metadata": {},
     "source": [
      "* pimper les mod\u00e8les pour une meilleure lisibilit\u00e9 dans l'admin<br />\n",
      "`ligue/models.py`"
     ]
    },
    {
     "cell_type": "code",
     "collapsed": false,
     "input": [
      "def __unicode__(self):\n",
      "    return \"\"  # coder ici la cha\u00eene unicode d\u00e9sir\u00e9e que l'on veut retourner"
     ],
     "language": "python",
     "metadata": {},
     "outputs": []
    },
    {
     "cell_type": "markdown",
     "metadata": {},
     "source": [
      "* ajouter de fa\u00e7on it\u00e9rative plus d'infos sur nos mod\u00e8les\n",
      "    * Joueur.prenom\n",
      "    * Joueur.date_naissance"
     ]
    },
    {
     "cell_type": "markdown",
     "metadata": {},
     "source": [
      "* Si south est install\u00e9, cr\u00e9er et appliquer la migration :\n",
      "\n",
      "<pre>\n",
      "$ python manage.py migrate ligue\n",
      "$ python manage.py schemamigration ligue --auto\n",
      "</pre>"
     ]
    },
    {
     "cell_type": "markdown",
     "metadata": {},
     "source": [
      "* Sinon :\n",
      "    * supprimer `ligue_rugby_mp.db`\n",
      "    * recr\u00e9er les tables"
     ]
    },
    {
     "cell_type": "raw",
     "metadata": {},
     "source": [
      "$ python manage.py syncdb"
     ]
    },
    {
     "cell_type": "markdown",
     "metadata": {},
     "source": [
      "* ajouter une relation entre `Joueur` et `Equipe`<br />\n",
      "    `ligue/models.py`\n",
      "    * ajouter :<br />\n",
      "    `Joueur.equipe`\n",
      "    * modifier la base de donn\u00e9es en cons\u00e9quence :\n",
      "        * south : cr\u00e9er et appliquer la migration\n",
      "        * autre : supprimer la DB et syncdb\n",
      "\n",
      "* ajouter quelque Equipes et Joueurs dans l'admin\n",
      "\n",
      "### Frontend : pr\u00e9senter les donn\u00e9es\n",
      "\n",
      "* cr\u00e9er une URL pour la page d'accueil : [https://docs.djangoproject.com/en/1.5/topics/http/urls/](https://docs.djangoproject.com/en/1.5/topics/http/urls/)<br />\n",
      "`urls.py`"
     ]
    },
    {
     "cell_type": "raw",
     "metadata": {},
     "source": [
      "urlpatterns = patterns('',\n",
      "    url(r'^$', 'ligue_rugby_mp.views.home', name='home'),\n",
      "    # ...\n",
      ")"
     ]
    },
    {
     "cell_type": "markdown",
     "metadata": {},
     "source": [
      "* cr\u00e9er le code qui va g\u00e9n\u00e9rer la page d'accueil<br />\n",
      "`views.py`\n",
      "    * [https://docs.djangoproject.com/en/1.5/topics/http/views/](https://docs.djangoproject.com/en/1.5/topics/http/views/)\n",
      "    * *[voir tutoriel Part 3 (version shortcut)](https://docs.djangoproject.com/en/1.5/intro/tutorial03/)*"
     ]
    },
    {
     "cell_type": "raw",
     "metadata": {},
     "source": [
      "from django.shortcuts import render\n",
      "\n",
      "def home(request):\n",
      "    c = { }\n",
      "    return render(request, 'home.html', c)"
     ]
    },
    {
     "cell_type": "markdown",
     "metadata": {},
     "source": [
      "* `templates` [https://docs.djangoproject.com/en/1.5/topics/templates/](https://docs.djangoproject.com/en/1.5/topics/templates/)\n",
      "    * cr\u00e9er r\u00e9pertoire `templates` dans `ligue_rugby_mp`\n",
      "    * configurer le projet pour qu'il sache o\u00f9 aller chercher par d\u00e9faut les templates<br />\n",
      "    `settings.py`"
     ]
    },
    {
     "cell_type": "raw",
     "metadata": {},
     "source": [
      "import os\n",
      "\n",
      "# ...\n",
      "\n",
      "TEMPLATE_DIRS = (\n",
      "    os.path.join(os.path.dirname(__file__), \"templates\"),\n",
      ")"
     ]
    },
    {
     "cell_type": "markdown",
     "metadata": {},
     "source": [
      "* cr\u00e9er le template de la page d'accueil<br />\n",
      "`templates/home.html`\n",
      "\n",
      "* passer une variable au template<br />\n",
      "`views.py`\n",
      "\n",
      "* utiliser une variable dans les templates<br />\n",
      "`templates/home.html`"
     ]
    },
    {
     "cell_type": "raw",
     "metadata": {},
     "source": [
      "{{ var }}"
     ]
    },
    {
     "cell_type": "markdown",
     "metadata": {},
     "source": [
      "* `views.py` : *endroit o\u00f9 on code la logique en Python...<br />\n",
      "...plus simple si explore interactivement.*"
     ]
    },
    {
     "cell_type": "raw",
     "metadata": {},
     "source": [
      "python manage.py shell"
     ]
    },
    {
     "cell_type": "markdown",
     "metadata": {},
     "source": [
      "* ORM (API) : object relation mapping"
     ]
    },
    {
     "cell_type": "raw",
     "metadata": {},
     "source": [
      ">>> from ligue.models import *\n",
      ">>> equipes = Equipe.objects.all()\n",
      ">>> for e in equipes: print e\n",
      ">>> e = equipes[0]\n",
      ">>> e.joueur_set.all()\n",
      ">>> j = Joueur.objects.get(id=1)\n",
      ">>> j.id\n",
      ">>> j = Joueur.objects.get(id=314)\n",
      ">>> e.id\n",
      ">>> joueurs = Joueur.objects.filter(equipe__nom__startswith='Pyth')"
     ]
    },
    {
     "cell_type": "markdown",
     "metadata": {},
     "source": [
      "* faciliter la syntaxe d'acc\u00e8s aux objets reli\u00e9s<br />\n",
      "`ligue/models.py`"
     ]
    },
    {
     "cell_type": "raw",
     "metadata": {},
     "source": [
      "related_name = \"joueurs\""
     ]
    },
    {
     "cell_type": "markdown",
     "metadata": {},
     "source": [
      "* relancer shell"
     ]
    },
    {
     "cell_type": "raw",
     "metadata": {},
     "source": [
      ">>> e.joueurs.all()\n",
      ">>> e.joueurs.count()"
     ]
    },
    {
     "cell_type": "markdown",
     "metadata": {},
     "source": [
      "* passer les variables pertinentes pour accueil<br />\n",
      "suite \u00e0 exploration interactive via l'ORM dans le shell<br />\n",
      "`views.py`\n",
      "\n",
      "* boucler sur des querysets dans le template<br />\n",
      "`templates/home.html`"
     ]
    },
    {
     "cell_type": "raw",
     "metadata": {},
     "source": [
      "{% for e in equipes %}\n",
      "{% endfor %}"
     ]
    },
    {
     "cell_type": "markdown",
     "metadata": {},
     "source": [
      "---\n",
      "\n",
      "## PARTIE 3 : PROJET LRMP PIMP\u00c9\n",
      "\n",
      "### H\u00e9ritage de templates\n",
      "\n",
      "* `base.html`\n"
     ]
    },
    {
     "cell_type": "raw",
     "metadata": {},
     "source": [
      "{% block main %}\n",
      "{% endblock %}"
     ]
    },
    {
     "cell_type": "markdown",
     "metadata": {},
     "source": [
      "* `templates`"
     ]
    },
    {
     "cell_type": "raw",
     "metadata": {},
     "source": [
      "{% extends \"base.html\" %}\n",
      "\n",
      "{% block main %}\n",
      "{% endblock %}"
     ]
    },
    {
     "cell_type": "markdown",
     "metadata": {},
     "source": [
      "### URL avec param\u00e8tres\n",
      "\n",
      "* import des urls d'une app, ici celle de l'app `ligue`<br />\n",
      "`urls.py`"
     ]
    },
    {
     "cell_type": "raw",
     "metadata": {},
     "source": [
      "urlpatterns = patterns('',\n",
      "    # ...\n",
      "    url(r'^', include('ligue.urls')),\n",
      ")"
     ]
    },
    {
     "cell_type": "markdown",
     "metadata": {},
     "source": [
      "* pages de d\u00e9tail : capter l'id de l'objet dans l'URL<br />\n",
      "`ligue/urls.py`"
     ]
    },
    {
     "cell_type": "raw",
     "metadata": {},
     "source": [
      "urlpatterns = patterns('ligue.views',\n",
      "    url(r'^equipes/(?P<id>\\d+)$', 'equipe_detail', name=\"equipe\"),\n",
      ")"
     ]
    },
    {
     "cell_type": "markdown",
     "metadata": {},
     "source": [
      "* capter l'id de l'objet dans la vue et aller chercher l'objet en DB<br />\n",
      "`ligue/views.py`"
     ]
    },
    {
     "cell_type": "raw",
     "metadata": {},
     "source": [
      "from django.shortcuts import render\n",
      "\n",
      "from ligue.models import Equipe\n",
      "\n",
      "def equipe_detail(request, id):\n",
      "    equipe = Equipe.objects.get(id=id)\n",
      "    c = {\n",
      "        'equipe': equipe,\n",
      "    }\n",
      "    return render(request, \"ligue/equipe_detail.html\", c)"
     ]
    },
    {
     "cell_type": "markdown",
     "metadata": {},
     "source": [
      "* utiliser l'objet dans le template<br />\n",
      "`templates/ligue/equipe_detail.html`"
     ]
    },
    {
     "cell_type": "raw",
     "metadata": {},
     "source": [
      "{{ equipe.name }}"
     ]
    },
    {
     "cell_type": "markdown",
     "metadata": {},
     "source": [
      "### Admin pimp\u00e9 : ModelAdmin\n",
      "\n",
      "[https://docs.djangoproject.com/en/1.5/ref/contrib/admin/](https://docs.djangoproject.com/en/1.5/ref/contrib/admin/)\n",
      "\n",
      "* classes h\u00e9ritant de `ModelAdmin` : `JoueurAdmin`, `EquipeAdmin`<br />\n",
      "`ligue/admin.py`"
     ]
    },
    {
     "cell_type": "raw",
     "metadata": {},
     "source": [
      "class EquipeAdmin(admin.ModelAdmin):\n",
      "    pass\n",
      "\n",
      "class JoueurAdmin(admin.ModelAdmin):\n",
      "    pass"
     ]
    },
    {
     "cell_type": "markdown",
     "metadata": {},
     "source": [
      "* enregistrer Modele avec ModeleAdmin"
     ]
    },
    {
     "cell_type": "raw",
     "metadata": {},
     "source": [
      "admin.site.register(Equipe, EquipeAdmin)\n",
      "admin.site.register(Joueur, JoueurAdmin)"
     ]
    },
    {
     "cell_type": "markdown",
     "metadata": {},
     "source": [
      "* configuration des ModeleAdmin"
     ]
    },
    {
     "cell_type": "raw",
     "metadata": {},
     "source": [
      "list_display\n",
      "search_fields\n",
      "list_filter"
     ]
    },
    {
     "cell_type": "markdown",
     "metadata": {},
     "source": [
      "* plus? [https://docs.djangoproject.com/en/1.5/ref/contrib/admin/](https://docs.djangoproject.com/en/1.5/ref/contrib/admin/)\n",
      "    * fields\n",
      "    * fieldsets\n",
      "    * ...\n",
      "\n",
      "### Saut dans le temps : t\u00e9l\u00e9charger les sources\n",
      "\n",
      "* T\u00e9l\u00e9charger les [sources du projet pimp\u00e9](http://montrealpython.org/r/attachments/14/ligue_rugby_mp_pimped.zip)\n",
      "\n",
      "* Extraire\n",
      "\n",
      "* Pimp\u00e9? Quoi de neuf?\n",
      "\n",
      "### Fichiers statiques : CSS, images et js\n",
      "\n",
      "[https://docs.djangoproject.com/en/1.5/howto/static-files/](https://docs.djangoproject.com/en/1.5/howto/static-files/)\n",
      "\n",
      "* r\u00e9pertoire : `static`\n",
      "    * `css`\n",
      "    * `images`\n",
      "    * `js`\n",
      "\n",
      "* `settings.py`"
     ]
    },
    {
     "cell_type": "raw",
     "metadata": {},
     "source": [
      "PROJECT_ROOT = os.path.dirname(__file__)\n",
      "SITE_ROOT = os.path.dirname(PROJECT_ROOT)\n",
      "\n",
      "MEDIA_ROOT = os.path.join(PROJECT_ROOT, 'media')\n",
      "MEDIA_URL = '/media/'\n",
      "\n",
      "STATIC_ROOT = os.path.join(SITE_ROOT, 'site_static')\n",
      "STATIC_URL = '/static/'\n",
      "STATICFILES_DIRS = (\n",
      "    os.path.join(PROJECT_ROOT, 'static'),\n",
      ")"
     ]
    },
    {
     "cell_type": "markdown",
     "metadata": {},
     "source": [
      "* `urls.py`"
     ]
    },
    {
     "cell_type": "raw",
     "metadata": {},
     "source": [
      "from django.contrib.staticfiles.urls import staticfiles_urlpatterns\n",
      "\n",
      "# ...\n",
      "\n",
      "urlpatterns += staticfiles_urlpatterns()"
     ]
    },
    {
     "cell_type": "markdown",
     "metadata": {},
     "source": [
      "* `templates`"
     ]
    },
    {
     "cell_type": "raw",
     "metadata": {},
     "source": [
      "{{ STATIC_URL }}"
     ]
    },
    {
     "cell_type": "markdown",
     "metadata": {},
     "source": [
      "### Templates pimp\u00e9s\n",
      "\n",
      "* `templates/base.html`\n",
      "\n",
      "### Connexion du user\n",
      "\n",
      "* `templates`\n",
      "    * `connexion.html`\n",
      "    * `deconnexion.html`\n",
      "\n",
      "* `urls.py`"
     ]
    },
    {
     "cell_type": "raw",
     "metadata": {},
     "source": [
      "urlpatterns = patterns('',\n",
      "    # ...\n",
      "    url(r'^login/$', 'django.contrib.auth.views.login', \n",
      "        dict(template_name='connexion.html',), \n",
      "        'connexion'\n",
      "    ),\n",
      "    url(r'^logout/$', 'django.contrib.auth.views.logout', \n",
      "        dict(template_name='deconnexion.html',), \n",
      "        'deconnexion'\n",
      "    ),\n",
      "    # ...\n",
      ")"
     ]
    },
    {
     "cell_type": "markdown",
     "metadata": {},
     "source": [
      "* `settings.py`"
     ]
    },
    {
     "cell_type": "raw",
     "metadata": {},
     "source": [
      "LOGIN_URL = \"/login/\" \n",
      "LOGIN_REDIRECT_URL = \"/\""
     ]
    },
    {
     "cell_type": "markdown",
     "metadata": {},
     "source": [
      "---\n",
      "\n",
      "## PARTIE 4 : HANDS-ON : CR\u00c9ER L'APPLICATION CALENDRIER POUR LE PROJET LRMP\n",
      "\n",
      "### Cr\u00e9er une application calendrier\n",
      "\n",
      "### Ajouter les mod\u00e8les Match et Saison\n",
      "\n",
      "* Match\n",
      "    * date\n",
      "    * lieu\n",
      "    * equipe1\n",
      "    * equipe2\n",
      "    * score1\n",
      "    * score2\n",
      "* Saison\n",
      "    * ...\n",
      "\n",
      "### Autre exercice : \u00e2ge d'un joueur\n",
      "\n",
      "* Joueur.date_naissance\n",
      "* Joueur.age()<br />\n",
      "*ajouter une methode `age()` sur la classe Joueur utilisant la date de naissance*\n",
      "\n",
      "---\n",
      "\n",
      "## CONCLUSION : POUR CONTINUER\n",
      "\n",
      "* Autres aspects non couverts (quelques uns)\n",
      "    * permissions et d\u00e9corateurs\n",
      "    * manage.py inspectdb *[legacy database](https://docs.djangoproject.com/en/1.5/howto/legacy-databases/)*\n",
      "    * fixtures : [donn\u00e9es initiales et de test](https://docs.djangoproject.com/en/1.5/howto/initial-data/)\n",
      "    * manage.py test\n",
      "    * forms\n",
      "    * generic views\n",
      "    * templates : tags, filtres\n",
      "\n",
      "* Mailing list des utilisateurs Django :<br />\n",
      "[http://groups.google.com/group/django-users](http://groups.google.com/group/django-users)\n",
      "\n",
      "* Channel IRC #django :<br />\n",
      "irc://irc.freenode.net/django\n",
      "\n",
      "* Contribs, plugins<br />\n",
      "[https://docs.djangoproject.com/en/dev/ref/contrib/](https://docs.djangoproject.com/en/dev/ref/contrib/)\n",
      "   * south\n",
      "   * reversion\n",
      "   * Autre : pypi<br />\n",
      "[http://pypi.python.org/](http://pypi.python.org/)\n",
      "\n",
      "* Montr\u00e9al-Python : \n",
      "    * entrer dans la communaut\u00e9\n",
      "    * \u00e9v\u00e9nements \u00e0 venir\n",
      "\n",
      "* Enjoy!\n",
      "\n",
      "---\n",
      "\n",
      "## SONDAGE DE SATISFACTION\n",
      "\n",
      "On veut devenir meilleurs, votre opinion nous int\u00e9resse!<br />\n",
      "Merci de prendre 5 minutes de votre temps pour nous fournir votre retour d'exp\u00e9rience.\n",
      "\n",
      "* *URL \u00e0 venir*"
     ]
    }
   ],
   "metadata": {}
  }
 ]
}