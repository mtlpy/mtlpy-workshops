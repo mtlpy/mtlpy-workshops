{
 "metadata": {
  "name": ""
 },
 "nbformat": 3,
 "nbformat_minor": 0,
 "worksheets": [
  {
   "cells": [
    {
     "cell_type": "markdown",
     "metadata": {},
     "source": [
      "# virtualenv\n",
      "\n",
      "Utiliser les environnements virtuels pour installer des logiciels seulement au niveau projet.\n",
      "\n",
      "## Introduction\n",
      "\n",
      "* l'installation de l'environnement technique des ateliers de Montr\u00e9al-Python (d\u00e9pendances) se fera via virtualenv\n",
      "\n",
      "Pr\u00e9requis\n",
      "\n",
      "* \u00catre administrateur du syst\u00e8me (\u00eatre sudoer)\n",
      "* _Id\u00e9alement, avoir install\u00e9 Ubuntu en machine virtuelle en suivant l'atelier [Environnement technique support\u00e9](http://bit.ly/1697xMF)_\n",
      "\n",
      "Objectifs\n",
      "\n",
      "* Installer virtualenv\n",
      "* S'initier aux environnements virtuels Python\n",
      "\n",
      "## Environnements virtuels Python\n",
      "\n",
      "Logiciels install\u00e9s au niveau syst\u00e8me (system-wide) vs install\u00e9s au niveau projet (project-wide)\n",
      "\n",
      "* Niveau syst\u00e8me : pour tous les projets, via paquets Debian (pourrait n\u00e9cessiter \"sudo\")\n",
      "* Niveau projet : propre au projet, via paquets Python dans un environnement virtuel Python, permet utilisation d'une version sp\u00e9cifique\n",
      "\n",
      "## Virtualenv\n",
      "\n",
      "[http://www.virtualenv.org](http://www.virtualenv.org)\n",
      "\n",
      "* Pour installer des logiciels seulement au niveau projet\n",
      "* virtualenv\n",
      "* Paquet Debian = "
     ]
    },
    {
     "cell_type": "raw",
     "metadata": {},
     "source": [
      "$ sudo apt-get install python-virtualenv"
     ]
    },
    {
     "cell_type": "markdown",
     "metadata": {},
     "source": [
      "\n",
      "\n",
      "Cr\u00e9er un environnement virtuel Python\n",
      "\n",
      "* qui s'ajoute \u00e0 celui du syst\u00e8me\n"
     ]
    },
    {
     "cell_type": "raw",
     "metadata": {},
     "source": [
      "$ virtualenv --system-site-packages env"
     ]
    },
    {
     "cell_type": "markdown",
     "metadata": {},
     "source": [
      "* compl\u00e8tement isol\u00e9 du syst\u00e8me"
     ]
    },
    {
     "cell_type": "raw",
     "metadata": {},
     "source": [
      "$ virtualenv --no-site-packages env"
     ]
    },
    {
     "cell_type": "markdown",
     "metadata": {},
     "source": [
      "* instance locale de Python dans l'environnement virtuel\n",
      "\n",
      "* supprimer le distribute.tar.gz si ajout\u00e9 par virtualenv, ex.:"
     ]
    },
    {
     "cell_type": "raw",
     "metadata": {},
     "source": [
      "$ rm distribute-0.6.10.tar.gz"
     ]
    },
    {
     "cell_type": "markdown",
     "metadata": {},
     "source": [
      "Supprimer un environnement virtuel Python\n",
      "\n",
      "* simplement supprimer le r\u00e9pertoire cr\u00e9\u00e9"
     ]
    },
    {
     "cell_type": "raw",
     "metadata": {},
     "source": [
      "$ rm -r env"
     ]
    },
    {
     "cell_type": "markdown",
     "metadata": {},
     "source": [
      "Utiliser un environnement virtuel Python\n",
      "\n",
      "* activer l'environnement virtuel Python"
     ]
    },
    {
     "cell_type": "raw",
     "metadata": {},
     "source": [
      "$ source env/bin/activate"
     ]
    },
    {
     "cell_type": "raw",
     "metadata": {},
     "source": [
      "* installer, mettre \u00e0 jour ou d\u00e9sintaller des paquets Python avec pip\n",
      "\n",
      "* d\u00e9sactiver l'environnement virtuel Python"
     ]
    },
    {
     "cell_type": "raw",
     "metadata": {},
     "source": [
      "(env)$ deactivate"
     ]
    },
    {
     "cell_type": "markdown",
     "metadata": {},
     "source": [
      "## pip\n",
      "\n",
      "[http://www.pip-installer.org](http://www.pip-installer.org)\n",
      "\n",
      "Installer et g\u00e9rer les paquets Python.\n",
      "\n",
      "* trouver les paquets \u00e0 installer : pypi<br />\n",
      "[https://pypi.python.org](https://pypi.python.org)<br />\n",
      "Exemple :<br />\n",
      "ipython : [https://pypi.python.org/pypi/ipython/1.0.0](https://pypi.python.org/pypi/ipython/1.0.0)\n",
      "* cr\u00e9er un fichier requirements.txt dans votre projet\n",
      "* ajouter un paquet requis par ligne (avec les versions autoris\u00e9es)<br />\n",
      "[http://www.pip-installer.org/en/latest/cookbook.html#requirements-files](http://www.pip-installer.org/en/latest/cookbook.html#requirements-files)<br />\n",
      "Exemple :"
     ]
    },
    {
     "cell_type": "raw",
     "metadata": {},
     "source": [
      "ipython == 1.0.0"
     ]
    },
    {
     "cell_type": "markdown",
     "metadata": {},
     "source": [
      "* installer avec pip"
     ]
    },
    {
     "cell_type": "raw",
     "metadata": {},
     "source": [
      "(env)$ pip install -r requirements.txt"
     ]
    },
    {
     "cell_type": "markdown",
     "metadata": {},
     "source": [
      "* voir les versions des paquets Python accessibles au projet"
     ]
    },
    {
     "cell_type": "raw",
     "metadata": {},
     "source": [
      "(env)$ pip freeze"
     ]
    },
    {
     "cell_type": "markdown",
     "metadata": {},
     "source": [
      "* utiliser les paquets<br />\n",
      "Exemple :"
     ]
    },
    {
     "cell_type": "raw",
     "metadata": {},
     "source": [
      "(env)$ ipython\n",
      "(env)$ ipython notebook"
     ]
    },
    {
     "cell_type": "markdown",
     "metadata": {},
     "source": [
      "* ajouter autres d\u00e9pendances au besoin et les installer\n",
      "\n",
      "* supprimer des d\u00e9pendances"
     ]
    },
    {
     "cell_type": "raw",
     "metadata": {},
     "source": [
      "(env)$ pip uninstall ipython"
     ]
    },
    {
     "cell_type": "markdown",
     "metadata": {},
     "source": [
      "## Conclusion\n",
      "\n",
      "Eh bien...\n",
      "\n",
      "* On contr\u00f4le et comprend son environnement de d\u00e9veloppement avec virtualenv et pip\n",
      "* C'est simple et l'fun!\n",
      "\n",
      "## En suite?\n",
      "\n",
      "Pour aller plus loin :\n",
      "\n",
      "* virtualenv : [http://www.virtualenv.org](http://www.virtualenv.org)\n",
      "\n",
      "* pip : [http://www.pip-installer.org](http://www.pip-installer.org)\n",
      "\n",
      "* paquets Python : [https://pypi.python.org](https://pypi.python.org)"
     ]
    }
   ],
   "metadata": {}
  }
 ]
}