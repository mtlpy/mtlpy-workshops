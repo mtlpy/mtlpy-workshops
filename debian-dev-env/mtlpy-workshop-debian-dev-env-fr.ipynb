{
 "metadata": {
  "name": ""
 },
 "nbformat": 3,
 "nbformat_minor": 0,
 "worksheets": [
  {
   "cells": [
    {
     "cell_type": "markdown",
     "metadata": {},
     "source": [
      "# Debian + Python = \u2661\n",
      "\n",
      "Se monter un environnement de d\u00e9veloppement Python sur Debian\n",
      "(ou sur une distribution Linux bas\u00e9e sur Debian : Ubuntu)\n",
      "\n",
      "## Introduction\n",
      "\n",
      "Pr\u00e9requis\n",
      "\n",
      "* Avoir install\u00e9 une distribution Linux bas\u00e9e sur Debian\n",
      "* \u00catre administrateur du syst\u00e8me (\u00eatre sudoer)\n",
      "\n",
      "Objectifs\n",
      "\n",
      "* Installer les paquets Debian essentiels pour le d\u00e9veloppement Python\n",
      "* S'initier aux environnements virtuels Python \n",
      "\n",
      "## Environnement de d\u00e9veloppement Python sur une Linux bas\u00e9e Debian\n",
      "\n",
      "### Python\n",
      "\n",
      "Python est d\u00e9j\u00e0 install\u00e9 par d\u00e9faut... c'est bien!\n",
      "\n",
      "* Lancer un terminal"
     ]
    },
    {
     "cell_type": "raw",
     "metadata": {},
     "source": [
      "$"
     ]
    },
    {
     "cell_type": "markdown",
     "metadata": {},
     "source": [
      "* Lancer Python"
     ]
    },
    {
     "cell_type": "raw",
     "metadata": {},
     "source": [
      "$ python"
     ]
    },
    {
     "cell_type": "markdown",
     "metadata": {},
     "source": [
      "* Identifier la version par d\u00e9faut de Python"
     ]
    },
    {
     "cell_type": "raw",
     "metadata": {},
     "source": [
      "$ python\n",
      "Python 2.7.3 (default, Jan  2 2013, 16:53:07) \n",
      "[GCC 4.7.2] on linux2\n",
      "Type \"help\", \"copyright\", \"credits\" or \"license\" for more information.\n",
      ">>>"
     ]
    },
    {
     "cell_type": "markdown",
     "metadata": {},
     "source": [
      "* Coder un truc"
     ]
    },
    {
     "cell_type": "raw",
     "metadata": {},
     "source": [
      ">>> print \"Hello world!\"\n",
      "Hello World"
     ]
    },
    {
     "cell_type": "markdown",
     "metadata": {},
     "source": [
      "* Dans la vraie vie on \u00e9crit des scripts... donc il faut installer au moins un \u00e9diteur de texte... mais rendu l\u00e0, on va se monter un environnement de d\u00e9veloppement complet\n",
      "\n",
      "### Debian : installer un paquet Debian\n",
      "\n",
      "Comment trouver un paquet\n",
      "\n",
      "* Web : tous les paquets : [http://packages.debian.org/stable/allpackages](http://packages.debian.org/fr/stable/allpackages)\n",
      "* Web : tous les paquets par cat\u00e9gorie : [http://packages.debian.org/stable/](http://packages.debian.org/fr/stable/)\n",
      "* Web : paquets Python : [http://packages.debian.org/stable/python/](http://packages.debian.org/en/stable/python/)\n",
      "\n",
      "Comment installer (mettre \u00e0 jour et supprimer) un paquet\n",
      "\n",
      "* Mode graphique : o\u00f9 aller"
     ]
    },
    {
     "cell_type": "raw",
     "metadata": {},
     "source": [
      "Applications > Outils syst\u00e8me > Ajouter/supprimer des logiciels"
     ]
    },
    {
     "cell_type": "markdown",
     "metadata": {},
     "source": [
      "* Ligne de commande : voici la commande<br />\n",
      "(remplacer \"package-name\" avec le nom du paquet que vous voulez installer/mettre \u00e0 jour/supprimer)"
     ]
    },
    {
     "cell_type": "raw",
     "metadata": {},
     "source": [
      "$ sudo apt-get install package-name\n",
      "$ sudo apt-get update package-name\n",
      "$ sudo apt-get remove package-name"
     ]
    },
    {
     "cell_type": "markdown",
     "metadata": {},
     "source": [
      "### \u00c9diteur texte\n",
      "\n",
      "Un \u00e9diteur pour \u00e9crire des scripts...<br />\n",
      "[http://packages.debian.org/stable/editors/](http://packages.debian.org/stable/editors/)\n",
      "\n",
      "* Mode graphique : gedit est d\u00e9j\u00e0 l\u00e0\n",
      "* Ligne de commande : emacs, vim, nano\n",
      "* Quel choisir? une question de go\u00fbt\n",
      "* Utile : coloration syntaxique, indentation en bloc, auto-compl\u00e9tion, masquer/afficher bloc de code...\n",
      "* Paquets Debian = "
     ]
    },
    {
     "cell_type": "raw",
     "metadata": {},
     "source": [
      "$ sudo apt-get install emacs\n",
      "$ sudo apt-get install vim\n",
      "$ sudo apt-get install nano"
     ]
    },
    {
     "cell_type": "markdown",
     "metadata": {},
     "source": [
      "### Python : interpr\u00e9teur Python\n",
      "\n",
      "Interpr\u00e9teur Python d\u00e9j\u00e0 l\u00e0, mais pourquoi ne pas aller plus loin?\n",
      "\n",
      "* IPython : interpr\u00e9teur interactif<br />\n",
      "pourquoi IPython?\n",
      "* IPython notebook : pourrait \u00eatre utile pour les futurs ateliers de formation :)\n",
      "* Paquets Debian = "
     ]
    },
    {
     "cell_type": "raw",
     "metadata": {},
     "source": [
      "$ sudo apt-get install ipython\n",
      "$ sudo apt-get install ipython-notebook"
     ]
    },
    {
     "cell_type": "markdown",
     "metadata": {},
     "source": [
      "### Gestion des versions\n",
      "\n",
      "S'outiller pour suivre l'historique des versions de son code\n",
      "\n",
      "* Pourquoi g\u00e9rer les versions du code source?\n",
      "* Quel choisir? git, mercurial...\n",
      "* Paquets Debian = "
     ]
    },
    {
     "cell_type": "raw",
     "metadata": {},
     "source": [
      "$ sudo apt-get install git\n",
      "$ sudo apt-get install gitk\n",
      "$ sudo apt-get install mercurial"
     ]
    },
    {
     "cell_type": "markdown",
     "metadata": {},
     "source": [
      "### Extensions Python\n",
      "\n",
      "* Les extensions Python \u00e9crites dans d'autres langages pourraient \u00eatre n\u00e9cessaires, donc il nous faut des outils pour pouvoir les compiler<br />\n",
      "ex.: gcc, pil...\n",
      "* build-essentials, python-dev (sources de Python)\n",
      "* Paquets Debian = "
     ]
    },
    {
     "cell_type": "raw",
     "metadata": {},
     "source": [
      "$ sudo apt-get install build-essential\n",
      "$ sudo apt-get install python-dev"
     ]
    },
    {
     "cell_type": "markdown",
     "metadata": {},
     "source": [
      "### Environnements virtuels\n",
      "\n",
      "* Pour installer des logiciels seulement au niveau projet\n",
      "* virtualenv\n",
      "* Paquet Debian = "
     ]
    },
    {
     "cell_type": "raw",
     "metadata": {},
     "source": [
      "$ sudo apt-get install python-virtualenv"
     ]
    },
    {
     "cell_type": "markdown",
     "metadata": {},
     "source": [
      "### Outils Python offerts en paquet Debian\n",
      "\n",
      "Science\n",
      "\n",
      "* matplotlib, numpy\n",
      "* Pour quoi?\n",
      "* Paquets Debian ="
     ]
    },
    {
     "cell_type": "raw",
     "metadata": {},
     "source": [
      "$ sudo apt-get install python-matplotlib\n",
      "$ sudo apt-get install python-numpy"
     ]
    },
    {
     "cell_type": "markdown",
     "metadata": {},
     "source": [
      "Frameworks web\n",
      "\n",
      "* Django, Pyramid\n",
      "* Pour quoi? Quel choisir?\n",
      "* Paquets Debian ="
     ]
    },
    {
     "cell_type": "raw",
     "metadata": {},
     "source": [
      "$ sudo apt-get install python-django\n",
      "$ sudo apt-get install python-pyramid"
     ]
    },
    {
     "cell_type": "markdown",
     "metadata": {},
     "source": [
      "Pilotes de base de donn\u00e9es\n",
      "\n",
      "* mysqldb, psycopg, sqlalchemy\n",
      "* Pour quoi? Quel choisir?\n",
      "* Paquets Debian ="
     ]
    },
    {
     "cell_type": "raw",
     "metadata": {},
     "source": [
      "$ sudo apt-get install python-mysqldb\n",
      "$ sudo apt-get install python-psycopg2\n",
      "$ sudo apt-get install python-sqlalchemy"
     ]
    },
    {
     "cell_type": "markdown",
     "metadata": {},
     "source": [
      "## Environnements virtuels Python\n",
      "\n",
      "Logiciels install\u00e9s au niveau syst\u00e8me (system-wide) vs install\u00e9s au niveau projet (project-wide)\n",
      "\n",
      "* Niveau syst\u00e8me : pour tous les projets, via paquets Debian (pourrait n\u00e9cessiter \"sudo\")\n",
      "* Niveau projet : propre au projet, via paquets Python dans un environnement virtuel Python, permet utilisation d'une version sp\u00e9cifique\n",
      "\n",
      "## Introduction\n",
      "\n",
      "* l'installation de l'environnement technique de l'atelier (d\u00e9pendances) se fera via virtualenv\n",
      "\n",
      "Pr\u00e9requis\n",
      "\n",
      "* Avoir virtualenv install\u00e9 sur votre syst\u00e8me\n",
      "\n",
      "Objectif\n",
      "* S'initier aux environnements virtuels Python \n",
      "\n",
      "\n",
      "## Virtualenv\n",
      "\n",
      "[http://www.virtualenv.org](http://www.virtualenv.org)\n",
      "\n",
      "Cr\u00e9er un environnement virtuel Python\n",
      "\n",
      "* qui s'ajoute \u00e0 celui du syst\u00e8me\n"
     ]
    },
    {
     "cell_type": "raw",
     "metadata": {},
     "source": [
      "$ virtualenv --system-site-packages env"
     ]
    },
    {
     "cell_type": "markdown",
     "metadata": {},
     "source": [
      "* compl\u00e8tement isol\u00e9 du syst\u00e8me"
     ]
    },
    {
     "cell_type": "raw",
     "metadata": {},
     "source": [
      "$ virtualenv --no-site-packages env"
     ]
    },
    {
     "cell_type": "markdown",
     "metadata": {},
     "source": [
      "* instance locale de Python dans l'environnement virtuel\n",
      "\n",
      "* supprimer le distribute.tar.gz si ajout\u00e9 par virtualenv, ex.:"
     ]
    },
    {
     "cell_type": "raw",
     "metadata": {},
     "source": [
      "$ rm distribute-0.6.10.tar.gz"
     ]
    },
    {
     "cell_type": "markdown",
     "metadata": {},
     "source": [
      "Supprimer un environnement virtuel Python\n",
      "\n",
      "* simplement supprimer le r\u00e9pertoire cr\u00e9\u00e9"
     ]
    },
    {
     "cell_type": "raw",
     "metadata": {},
     "source": [
      "$ rm -r env"
     ]
    },
    {
     "cell_type": "markdown",
     "metadata": {},
     "source": [
      "Utiliser un environnement virtuel Python\n",
      "\n",
      "* activer l'environnement virtuel Python"
     ]
    },
    {
     "cell_type": "raw",
     "metadata": {},
     "source": [
      "$ source env/bin/activate"
     ]
    },
    {
     "cell_type": "raw",
     "metadata": {},
     "source": [
      "* installer, mettre \u00e0 jour ou d\u00e9sintaller des paquets Python avec pip\n",
      "\n",
      "* d\u00e9sactiver l'environnement virtuel Python"
     ]
    },
    {
     "cell_type": "raw",
     "metadata": {},
     "source": [
      "(env)$ deactivate"
     ]
    },
    {
     "cell_type": "markdown",
     "metadata": {},
     "source": [
      "## pip\n",
      "\n",
      "[http://www.pip-installer.org](http://www.pip-installer.org)\n",
      "\n",
      "Installer et g\u00e9rer les paquets Python.\n",
      "\n",
      "* trouver les paquets \u00e0 installer : pypi<br />\n",
      "[https://pypi.python.org](https://pypi.python.org)<br />\n",
      "Exemple :<br />\n",
      "ipython : [https://pypi.python.org/pypi/ipython/1.0.0](https://pypi.python.org/pypi/ipython/1.0.0)\n",
      "* cr\u00e9er un fichier requirements.txt dans votre projet\n",
      "* ajouter un paquet requis par ligne (avec les versions autoris\u00e9es)<br />\n",
      "[http://www.pip-installer.org/en/latest/cookbook.html#requirements-files](http://www.pip-installer.org/en/latest/cookbook.html#requirements-files)<br />\n",
      "Exemple :"
     ]
    },
    {
     "cell_type": "raw",
     "metadata": {},
     "source": [
      "ipython == 1.0.0"
     ]
    },
    {
     "cell_type": "markdown",
     "metadata": {},
     "source": [
      "* installer avec pip"
     ]
    },
    {
     "cell_type": "raw",
     "metadata": {},
     "source": [
      "(env)$ pip install -r requirements.txt"
     ]
    },
    {
     "cell_type": "markdown",
     "metadata": {},
     "source": [
      "* voir les versions des paquets Python accessibles au projet"
     ]
    },
    {
     "cell_type": "raw",
     "metadata": {},
     "source": [
      "(env)$ pip freeze"
     ]
    },
    {
     "cell_type": "markdown",
     "metadata": {},
     "source": [
      "* utiliser les paquets<br />\n",
      "Exemple :"
     ]
    },
    {
     "cell_type": "raw",
     "metadata": {},
     "source": [
      "(env)$ ipython\n",
      "(env)$ ipython notebook"
     ]
    },
    {
     "cell_type": "markdown",
     "metadata": {},
     "source": [
      "* ajouter autres d\u00e9pendances au besoin et les installer\n",
      "\n",
      "* supprimer des d\u00e9pendances"
     ]
    },
    {
     "cell_type": "raw",
     "metadata": {},
     "source": [
      "(env)$ pip uninstall ipython"
     ]
    },
    {
     "cell_type": "markdown",
     "metadata": {},
     "source": [
      "## Conclusion\n",
      "\n",
      "Eh bien...\n",
      "\n",
      "* Pas besoin de grand chose\n",
      "* Tout est l\u00e0 dans Debian\n",
      "* On contr\u00f4le et comprend son environnement de d\u00e9veloppement avec virtualenv et pip\n",
      "* C'est simple et l'fun!\n",
      "\n",
      "## En suite?\n",
      "\n",
      "Pour aller plus loin :\n",
      "\n",
      "* paquets Debian pour Python : [http://packages.debian.org/stable/python/](http://packages.debian.org/stable/python/)\n",
      "\n",
      "* paquets Python : [https://pypi.python.org](https://pypi.python.org)\n",
      "\n",
      "* virtualenv : [http://www.virtualenv.org](http://www.virtualenv.org)\n",
      "\n",
      "* pip : [http://www.pip-installer.org](http://www.pip-installer.org)"
     ]
    }
   ],
   "metadata": {}
  }
 ]
}